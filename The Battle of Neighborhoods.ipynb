{
    "nbformat_minor": 1, 
    "cells": [
        {
            "source": "# Segmenting and Clustering Neighborhoods in London City", 
            "cell_type": "markdown", 
            "metadata": {
                "collapsed": true
            }
        }, 
        {
            "execution_count": 1, 
            "cell_type": "code", 
            "metadata": {}, 
            "outputs": [], 
            "source": "import requests \nimport pandas as pd\nimport numpy as np\nfrom bs4 import BeautifulSoup\nfrom urllib.request import urlopen\nimport re\nfrom geopy.geocoders import Nominatim # convert an address into latitude and longitude values"
        }, 
        {
            "execution_count": 2, 
            "cell_type": "code", 
            "metadata": {}, 
            "outputs": [], 
            "source": "import json # library to handle JSON files\nfrom pandas.io.json import json_normalize # tranform JSON file into a pandas dataframe\n# import k-means from clustering stage\nfrom sklearn.cluster import KMeans\n\n# Matplotlib and associated plotting modules\nimport matplotlib.cm as cm\nimport matplotlib.colors as colors\n\n# install and import folium library \n!pip -q install folium\nimport folium \n\n# import k-means from clustering stage\nfrom sklearn.cluster import KMeans"
        }, 
        {
            "execution_count": 3, 
            "cell_type": "code", 
            "metadata": {}, 
            "outputs": [], 
            "source": "URL = \"https://en.wikipedia.org/wiki/List_of_London_boroughs\"\nres = requests.get(URL).text\nsoup = BeautifulSoup(res,'lxml')\n\ndf_list = []\n# print(soup)\nfor items in soup.find('table', class_= 'wikitable sortable').find_all('tr')[1::]:\n    data = items.find_all(['td'])\n    data1 = data[0]\n    data8 = data[8]    \n    try:\n        borough_name = data1.get_text()\n        borough_name = borough_name[0]\n        ll = data8.get_text()\n        lat_long = ll[2]\n        latitude = lat_long[0]\n        longitude = lat_long[1]\n#       Append the borough name, latitude and logitude in a list\n        df_list.append((borough_name, latitude, longitude))\n    except IndexError:pass"
        }, 
        {
            "source": "# 1) Download and Explore the Dataset\n\nRead the latitude and longitude coordinates of all Boroughs in London from a Wikipedia link", 
            "cell_type": "markdown", 
            "metadata": {}
        }, 
        {
            "execution_count": 4, 
            "cell_type": "code", 
            "metadata": {}, 
            "outputs": [], 
            "source": "URL = \"https://en.wikipedia.org/wiki/List_of_London_boroughs\"\nres = requests.get(URL).text\nsoup = BeautifulSoup(res,'lxml')\n\ndf_list = []\n# print(soup)\nfor items in soup.find('table', class_= 'wikitable sortable').find_all('tr')[1::]:\n    data = items.find_all(['td'])\n    data1 = data[0]\n    data8 = data[8]    \n    try:\n        borough_name = data1.get_text()\n        borough_name = borough_name.split('[')\n        borough_name = borough_name[0]\n        borough_name = borough_name.strip()\n        \n        ll = data8.get_text()\n        ll = ll.split('/')\n        lat_long = ll[2]\n        lat_long = lat_long.split('(')\n        lat_long = lat_long[0]\n        lat_long = lat_long.split(';')\n        latitude = lat_long[0]\n        latitude = latitude.strip()\n        longitude = lat_long[1]\n        longitude = longitude.strip()\n        longitude = longitude.replace(u'\\ufeff', '')\n        latitude = float(latitude)\n        longitude = float(longitude)\n\n#       Append the borough name, latitude and logitude in a list\n        df_list.append((borough_name, latitude, longitude))\n    except IndexError:pass"
        }, 
        {
            "execution_count": 5, 
            "cell_type": "code", 
            "metadata": {}, 
            "outputs": [
                {
                    "execution_count": 5, 
                    "metadata": {}, 
                    "data": {
                        "text/plain": "(32, 3)"
                    }, 
                    "output_type": "execute_result"
                }
            ], 
            "source": "df_boroughs = pd.DataFrame(df_list, columns=['Borough', 'Latitude' , 'Longitude'])\n\ndf_boroughs.shape"
        }, 
        {
            "execution_count": 6, 
            "cell_type": "code", 
            "metadata": {}, 
            "outputs": [
                {
                    "execution_count": 6, 
                    "metadata": {}, 
                    "data": {
                        "text/html": "<div>\n<style scoped>\n    .dataframe tbody tr th:only-of-type {\n        vertical-align: middle;\n    }\n\n    .dataframe tbody tr th {\n        vertical-align: top;\n    }\n\n    .dataframe thead th {\n        text-align: right;\n    }\n</style>\n<table border=\"1\" class=\"dataframe\">\n  <thead>\n    <tr style=\"text-align: right;\">\n      <th></th>\n      <th>Borough</th>\n      <th>Latitude</th>\n      <th>Longitude</th>\n    </tr>\n  </thead>\n  <tbody>\n    <tr>\n      <th>0</th>\n      <td>Barking and Dagenham</td>\n      <td>51.5607</td>\n      <td>0.1557</td>\n    </tr>\n    <tr>\n      <th>1</th>\n      <td>Barnet</td>\n      <td>51.6252</td>\n      <td>-0.1517</td>\n    </tr>\n    <tr>\n      <th>2</th>\n      <td>Bexley</td>\n      <td>51.4549</td>\n      <td>0.1505</td>\n    </tr>\n    <tr>\n      <th>3</th>\n      <td>Brent</td>\n      <td>51.5588</td>\n      <td>-0.2817</td>\n    </tr>\n    <tr>\n      <th>4</th>\n      <td>Bromley</td>\n      <td>51.4039</td>\n      <td>0.0198</td>\n    </tr>\n  </tbody>\n</table>\n</div>", 
                        "text/plain": "                Borough  Latitude  Longitude\n0  Barking and Dagenham   51.5607     0.1557\n1                Barnet   51.6252    -0.1517\n2                Bexley   51.4549     0.1505\n3                 Brent   51.5588    -0.2817\n4               Bromley   51.4039     0.0198"
                    }, 
                    "output_type": "execute_result"
                }
            ], 
            "source": "df_boroughs.head()"
        }, 
        {
            "execution_count": 7, 
            "cell_type": "code", 
            "metadata": {}, 
            "outputs": [
                {
                    "execution_count": 7, 
                    "metadata": {}, 
                    "data": {
                        "text/plain": "Borough       object\nLatitude     float64\nLongitude    float64\ndtype: object"
                    }, 
                    "output_type": "execute_result"
                }
            ], 
            "source": "df_boroughs.dtypes"
        }, 
        {
            "execution_count": 8, 
            "cell_type": "code", 
            "metadata": {}, 
            "outputs": [
                {
                    "execution_count": 8, 
                    "metadata": {}, 
                    "data": {
                        "text/html": "<div>\n<style scoped>\n    .dataframe tbody tr th:only-of-type {\n        vertical-align: middle;\n    }\n\n    .dataframe tbody tr th {\n        vertical-align: top;\n    }\n\n    .dataframe thead th {\n        text-align: right;\n    }\n</style>\n<table border=\"1\" class=\"dataframe\">\n  <thead>\n    <tr style=\"text-align: right;\">\n      <th></th>\n      <th>Borough</th>\n      <th>Latitude</th>\n      <th>Longitude</th>\n    </tr>\n  </thead>\n  <tbody>\n    <tr>\n      <th>23</th>\n      <td>Newham</td>\n      <td>51.5077</td>\n      <td>0.0469</td>\n    </tr>\n  </tbody>\n</table>\n</div>", 
                        "text/plain": "   Borough  Latitude  Longitude\n23  Newham   51.5077     0.0469"
                    }, 
                    "output_type": "execute_result"
                }
            ], 
            "source": "df_boroughs.loc[df_boroughs['Borough'] == 'Newham']"
        }, 
        {
            "source": "### Get the Latitude and Longitude of London City using geopy library", 
            "cell_type": "markdown", 
            "metadata": {}
        }, 
        {
            "execution_count": 9, 
            "cell_type": "code", 
            "metadata": {}, 
            "outputs": [
                {
                    "output_type": "stream", 
                    "name": "stdout", 
                    "text": "The geograpical coordinate of London City are 51.5073219, -0.1276474.\n"
                }
            ], 
            "source": "from geopy.geocoders import Nominatim # convert an address into latitude and longitude values\naddress = 'London, UK'\ngeolocator = Nominatim()\nlocation = geolocator.geocode(address)\nlatitude = location.latitude\nlongitude = location.longitude\nprint('The geograpical coordinate of London City are {}, {}.'.format(latitude, longitude))"
        }, 
        {
            "source": "### Create a map of London with Boroughs superimposed on top.", 
            "cell_type": "markdown", 
            "metadata": {}
        }, 
        {
            "execution_count": 10, 
            "cell_type": "code", 
            "metadata": {}, 
            "outputs": [
                {
                    "execution_count": 10, 
                    "metadata": {}, 
                    "data": {
                        "text/html": "<div style=\"width:100%;\"><div style=\"position:relative;width:100%;height:0;padding-bottom:60%;\"><iframe src=\"data:text/html;charset=utf-8;base64,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\" style=\"position:absolute;width:100%;height:100%;left:0;top:0;border:none !important;\" allowfullscreen webkitallowfullscreen mozallowfullscreen></iframe></div></div>", 
                        "text/plain": "<folium.folium.Map at 0x7fb84f7c8da0>"
                    }, 
                    "output_type": "execute_result"
                }
            ], 
            "source": "import folium \n\n# create map of London using latitude and longitude values\nmap_london = folium.Map(location=[latitude, longitude], zoom_start=10)\n\n# add markers to map\nfor lat, lng, borough in zip(df_boroughs['Latitude'], df_boroughs['Longitude'], df_boroughs['Borough']):\n    label = '{}'.format(borough)\n    label = folium.Popup(label, parse_html=True)\n    folium.CircleMarker(\n        [lat, lng],\n        radius=5,\n        popup=label,\n        color='blue',\n        fill=True,\n        fill_color='#3186cc',\nfill_opacity=0.7).add_to(map_london)  \nmap_london"
        }, 
        {
            "source": "# Preferred location for Asian restuarant - Newham Borough\nAs the borough Newham is having high asian population, we will consider to Segment and Cluster only the neighbourhoods of this borough. For that we have to get the latitude and longitude details of all the areas(neighbourhoods) of Newham borough.\n\nRead the latitude and longitude coordinates of all the neighborhoods(areas) in Newham Borough", 
            "cell_type": "markdown", 
            "metadata": {}
        }, 
        {
            "execution_count": 11, 
            "cell_type": "code", 
            "metadata": {}, 
            "outputs": [], 
            "source": "from urllib.request import urlopen\nimport re\nURL = \"https://en.wikipedia.org/wiki/List_of_areas_of_London\"\nres = requests.get(URL).text\nsoup = BeautifulSoup(res,'lxml')\n\ncodes = []\nareas_list = []\nhref_links_list = []\nfor items in soup.find('table', class_= 'wikitable sortable').find_all('tr')[1::]:\n    data = items.find_all(['td'])\n    data0 = data[0]\n    area_name = data0.text\n\n    data1 = data[1]\n    data1 = data1.text\n    borough = data1.split('[')\n    borough_name = borough[0]\n    data5 = data[5]\n    code = data5.text\n    code = code.strip()\n    \n    if borough_name == 'Newham':\n        codes.append(code)\n        areas_list.append((borough_name,area_name,code))\n\n                \nfor link in soup.findAll('a', attrs={'href': re.compile(\"^https://tools.wmflabs.org\")}):\n            htext = link.text\n            if htext in codes:\n                hlink = link.get('href')\n                href_links_list.append((htext, hlink))"
        }, 
        {
            "source": "### Create a DataFrame from the Areas list", 
            "cell_type": "markdown", 
            "metadata": {}
        }, 
        {
            "execution_count": 12, 
            "cell_type": "code", 
            "metadata": {}, 
            "outputs": [
                {
                    "execution_count": 12, 
                    "metadata": {}, 
                    "data": {
                        "text/html": "<div>\n<style scoped>\n    .dataframe tbody tr th:only-of-type {\n        vertical-align: middle;\n    }\n\n    .dataframe tbody tr th {\n        vertical-align: top;\n    }\n\n    .dataframe thead th {\n        text-align: right;\n    }\n</style>\n<table border=\"1\" class=\"dataframe\">\n  <thead>\n    <tr style=\"text-align: right;\">\n      <th></th>\n      <th>Borough</th>\n      <th>Area</th>\n      <th>Code</th>\n    </tr>\n  </thead>\n  <tbody>\n    <tr>\n      <th>0</th>\n      <td>Newham</td>\n      <td>Beckton</td>\n      <td>TQ435815</td>\n    </tr>\n    <tr>\n      <th>1</th>\n      <td>Newham</td>\n      <td>Canning Town</td>\n      <td>TQ405815</td>\n    </tr>\n    <tr>\n      <th>2</th>\n      <td>Newham</td>\n      <td>Custom House</td>\n      <td>TQ408807</td>\n    </tr>\n    <tr>\n      <th>3</th>\n      <td>Newham</td>\n      <td>East Ham</td>\n      <td>TQ425835</td>\n    </tr>\n    <tr>\n      <th>4</th>\n      <td>Newham</td>\n      <td>Forest Gate</td>\n      <td>TQ405855</td>\n    </tr>\n  </tbody>\n</table>\n</div>", 
                        "text/plain": "  Borough          Area      Code\n0  Newham       Beckton  TQ435815\n1  Newham  Canning Town  TQ405815\n2  Newham  Custom House  TQ408807\n3  Newham      East Ham  TQ425835\n4  Newham   Forest Gate  TQ405855"
                    }, 
                    "output_type": "execute_result"
                }
            ], 
            "source": "df_areas = pd.DataFrame(areas_list, columns=['Borough', 'Area', 'Code'])\ndf_areas.head()"
        }, 
        {
            "execution_count": 13, 
            "cell_type": "code", 
            "metadata": {}, 
            "outputs": [
                {
                    "execution_count": 13, 
                    "metadata": {}, 
                    "data": {
                        "text/plain": "Index(['Borough', 'Area', 'Code'], dtype='object')"
                    }, 
                    "output_type": "execute_result"
                }
            ], 
            "source": "df_areas.columns"
        }, 
        {
            "execution_count": 14, 
            "cell_type": "code", 
            "metadata": {}, 
            "outputs": [
                {
                    "execution_count": 14, 
                    "metadata": {}, 
                    "data": {
                        "text/plain": "(14, 3)"
                    }, 
                    "output_type": "execute_result"
                }
            ], 
            "source": "df_areas.shape"
        }, 
        {
            "source": "\nCreate a DataFrame from the list of href links", 
            "cell_type": "markdown", 
            "metadata": {}
        }, 
        {
            "execution_count": 16, 
            "cell_type": "code", 
            "metadata": {}, 
            "outputs": [
                {
                    "execution_count": 16, 
                    "metadata": {}, 
                    "data": {
                        "text/plain": "Index(['Code', 'href'], dtype='object')"
                    }, 
                    "output_type": "execute_result"
                }
            ], 
            "source": "df_links = pd.DataFrame(href_links_list, columns=['Code','href'])\ndf_links.columns"
        }, 
        {
            "execution_count": 17, 
            "cell_type": "code", 
            "metadata": {}, 
            "outputs": [
                {
                    "execution_count": 17, 
                    "metadata": {}, 
                    "data": {
                        "text/plain": "(15, 2)"
                    }, 
                    "output_type": "execute_result"
                }
            ], 
            "source": "df_links.shape"
        }, 
        {
            "execution_count": 18, 
            "cell_type": "code", 
            "metadata": {}, 
            "outputs": [
                {
                    "execution_count": 18, 
                    "metadata": {}, 
                    "data": {
                        "text/html": "<div>\n<style scoped>\n    .dataframe tbody tr th:only-of-type {\n        vertical-align: middle;\n    }\n\n    .dataframe tbody tr th {\n        vertical-align: top;\n    }\n\n    .dataframe thead th {\n        text-align: right;\n    }\n</style>\n<table border=\"1\" class=\"dataframe\">\n  <thead>\n    <tr style=\"text-align: right;\">\n      <th></th>\n      <th>Code</th>\n      <th>href</th>\n    </tr>\n  </thead>\n  <tbody>\n    <tr>\n      <th>0</th>\n      <td>TQ435815</td>\n      <td>https://tools.wmflabs.org/os/coor_g/?pagename=...</td>\n    </tr>\n    <tr>\n      <th>1</th>\n      <td>TQ405815</td>\n      <td>https://tools.wmflabs.org/os/coor_g/?pagename=...</td>\n    </tr>\n    <tr>\n      <th>2</th>\n      <td>TQ408807</td>\n      <td>https://tools.wmflabs.org/os/coor_g/?pagename=...</td>\n    </tr>\n    <tr>\n      <th>3</th>\n      <td>TQ425835</td>\n      <td>https://tools.wmflabs.org/os/coor_g/?pagename=...</td>\n    </tr>\n    <tr>\n      <th>4</th>\n      <td>TQ405855</td>\n      <td>https://tools.wmflabs.org/os/coor_g/?pagename=...</td>\n    </tr>\n    <tr>\n      <th>5</th>\n      <td>TQ435855</td>\n      <td>https://tools.wmflabs.org/os/coor_g/?pagename=...</td>\n    </tr>\n    <tr>\n      <th>6</th>\n      <td>TQ425855</td>\n      <td>https://tools.wmflabs.org/os/coor_g/?pagename=...</td>\n    </tr>\n    <tr>\n      <th>7</th>\n      <td>TQ391849</td>\n      <td>https://tools.wmflabs.org/os/coor_g/?pagename=...</td>\n    </tr>\n    <tr>\n      <th>8</th>\n      <td>TQ435795</td>\n      <td>https://tools.wmflabs.org/os/coor_g/?pagename=...</td>\n    </tr>\n    <tr>\n      <th>9</th>\n      <td>TQ405825</td>\n      <td>https://tools.wmflabs.org/os/coor_g/?pagename=...</td>\n    </tr>\n    <tr>\n      <th>10</th>\n      <td>TQ415795</td>\n      <td>https://tools.wmflabs.org/os/coor_g/?pagename=...</td>\n    </tr>\n    <tr>\n      <th>11</th>\n      <td>TQ385845</td>\n      <td>https://tools.wmflabs.org/os/coor_g/?pagename=...</td>\n    </tr>\n    <tr>\n      <th>12</th>\n      <td>TQ405837</td>\n      <td>https://tools.wmflabs.org/os/coor_g/?pagename=...</td>\n    </tr>\n    <tr>\n      <th>13</th>\n      <td>TQ405837</td>\n      <td>https://tools.wmflabs.org/os/coor_g/?pagename=...</td>\n    </tr>\n    <tr>\n      <th>14</th>\n      <td>TQ435795</td>\n      <td>https://tools.wmflabs.org/os/coor_g/?pagename=...</td>\n    </tr>\n  </tbody>\n</table>\n</div>", 
                        "text/plain": "        Code                                               href\n0   TQ435815  https://tools.wmflabs.org/os/coor_g/?pagename=...\n1   TQ405815  https://tools.wmflabs.org/os/coor_g/?pagename=...\n2   TQ408807  https://tools.wmflabs.org/os/coor_g/?pagename=...\n3   TQ425835  https://tools.wmflabs.org/os/coor_g/?pagename=...\n4   TQ405855  https://tools.wmflabs.org/os/coor_g/?pagename=...\n5   TQ435855  https://tools.wmflabs.org/os/coor_g/?pagename=...\n6   TQ425855  https://tools.wmflabs.org/os/coor_g/?pagename=...\n7   TQ391849  https://tools.wmflabs.org/os/coor_g/?pagename=...\n8   TQ435795  https://tools.wmflabs.org/os/coor_g/?pagename=...\n9   TQ405825  https://tools.wmflabs.org/os/coor_g/?pagename=...\n10  TQ415795  https://tools.wmflabs.org/os/coor_g/?pagename=...\n11  TQ385845  https://tools.wmflabs.org/os/coor_g/?pagename=...\n12  TQ405837  https://tools.wmflabs.org/os/coor_g/?pagename=...\n13  TQ405837  https://tools.wmflabs.org/os/coor_g/?pagename=...\n14  TQ435795  https://tools.wmflabs.org/os/coor_g/?pagename=..."
                    }, 
                    "output_type": "execute_result"
                }
            ], 
            "source": "df_links"
        }, 
        {
            "source": "### Merge the Areas and href Links DataFrames", 
            "cell_type": "markdown", 
            "metadata": {}
        }, 
        {
            "execution_count": 19, 
            "cell_type": "code", 
            "metadata": {}, 
            "outputs": [
                {
                    "execution_count": 19, 
                    "metadata": {}, 
                    "data": {
                        "text/plain": "Index(['href'], dtype='object')"
                    }, 
                    "output_type": "execute_result"
                }
            ], 
            "source": "cols = df_links.columns.difference(df_areas.columns)\n\ncols"
        }, 
        {
            "execution_count": 20, 
            "cell_type": "code", 
            "metadata": {}, 
            "outputs": [
                {
                    "execution_count": 20, 
                    "metadata": {}, 
                    "data": {
                        "text/plain": "(15, 4)"
                    }, 
                    "output_type": "execute_result"
                }
            ], 
            "source": "df_areas_links = pd.concat([df_areas, df_links[cols]], axis=1)\n\ndf_areas_links.shape"
        }, 
        {
            "execution_count": 21, 
            "cell_type": "code", 
            "metadata": {}, 
            "outputs": [
                {
                    "execution_count": 21, 
                    "metadata": {}, 
                    "data": {
                        "text/html": "<div>\n<style scoped>\n    .dataframe tbody tr th:only-of-type {\n        vertical-align: middle;\n    }\n\n    .dataframe tbody tr th {\n        vertical-align: top;\n    }\n\n    .dataframe thead th {\n        text-align: right;\n    }\n</style>\n<table border=\"1\" class=\"dataframe\">\n  <thead>\n    <tr style=\"text-align: right;\">\n      <th></th>\n      <th>Borough</th>\n      <th>Area</th>\n      <th>Code</th>\n      <th>href</th>\n    </tr>\n  </thead>\n  <tbody>\n    <tr>\n      <th>0</th>\n      <td>Newham</td>\n      <td>Beckton</td>\n      <td>TQ435815</td>\n      <td>https://tools.wmflabs.org/os/coor_g/?pagename=...</td>\n    </tr>\n    <tr>\n      <th>1</th>\n      <td>Newham</td>\n      <td>Canning Town</td>\n      <td>TQ405815</td>\n      <td>https://tools.wmflabs.org/os/coor_g/?pagename=...</td>\n    </tr>\n    <tr>\n      <th>2</th>\n      <td>Newham</td>\n      <td>Custom House</td>\n      <td>TQ408807</td>\n      <td>https://tools.wmflabs.org/os/coor_g/?pagename=...</td>\n    </tr>\n    <tr>\n      <th>3</th>\n      <td>Newham</td>\n      <td>East Ham</td>\n      <td>TQ425835</td>\n      <td>https://tools.wmflabs.org/os/coor_g/?pagename=...</td>\n    </tr>\n    <tr>\n      <th>4</th>\n      <td>Newham</td>\n      <td>Forest Gate</td>\n      <td>TQ405855</td>\n      <td>https://tools.wmflabs.org/os/coor_g/?pagename=...</td>\n    </tr>\n    <tr>\n      <th>5</th>\n      <td>Newham</td>\n      <td>Little Ilford</td>\n      <td>TQ435855</td>\n      <td>https://tools.wmflabs.org/os/coor_g/?pagename=...</td>\n    </tr>\n    <tr>\n      <th>6</th>\n      <td>Newham</td>\n      <td>Manor Park</td>\n      <td>TQ425855</td>\n      <td>https://tools.wmflabs.org/os/coor_g/?pagename=...</td>\n    </tr>\n    <tr>\n      <th>7</th>\n      <td>Newham</td>\n      <td>Maryland</td>\n      <td>TQ391849</td>\n      <td>https://tools.wmflabs.org/os/coor_g/?pagename=...</td>\n    </tr>\n    <tr>\n      <th>8</th>\n      <td>Newham</td>\n      <td>North Woolwich</td>\n      <td>TQ435795</td>\n      <td>https://tools.wmflabs.org/os/coor_g/?pagename=...</td>\n    </tr>\n    <tr>\n      <th>9</th>\n      <td>Newham</td>\n      <td>Plaistow</td>\n      <td>TQ405825</td>\n      <td>https://tools.wmflabs.org/os/coor_g/?pagename=...</td>\n    </tr>\n    <tr>\n      <th>10</th>\n      <td>Newham</td>\n      <td>Silvertown</td>\n      <td>TQ415795</td>\n      <td>https://tools.wmflabs.org/os/coor_g/?pagename=...</td>\n    </tr>\n    <tr>\n      <th>11</th>\n      <td>Newham</td>\n      <td>Stratford</td>\n      <td>TQ385845</td>\n      <td>https://tools.wmflabs.org/os/coor_g/?pagename=...</td>\n    </tr>\n    <tr>\n      <th>12</th>\n      <td>Newham</td>\n      <td>Upton Park</td>\n      <td>TQ405837</td>\n      <td>https://tools.wmflabs.org/os/coor_g/?pagename=...</td>\n    </tr>\n    <tr>\n      <th>13</th>\n      <td>Newham</td>\n      <td>West Ham</td>\n      <td>TQ405837</td>\n      <td>https://tools.wmflabs.org/os/coor_g/?pagename=...</td>\n    </tr>\n    <tr>\n      <th>14</th>\n      <td>NaN</td>\n      <td>NaN</td>\n      <td>NaN</td>\n      <td>https://tools.wmflabs.org/os/coor_g/?pagename=...</td>\n    </tr>\n  </tbody>\n</table>\n</div>", 
                        "text/plain": "   Borough            Area      Code  \\\n0   Newham         Beckton  TQ435815   \n1   Newham    Canning Town  TQ405815   \n2   Newham    Custom House  TQ408807   \n3   Newham        East Ham  TQ425835   \n4   Newham     Forest Gate  TQ405855   \n5   Newham   Little Ilford  TQ435855   \n6   Newham      Manor Park  TQ425855   \n7   Newham        Maryland  TQ391849   \n8   Newham  North Woolwich  TQ435795   \n9   Newham        Plaistow  TQ405825   \n10  Newham      Silvertown  TQ415795   \n11  Newham       Stratford  TQ385845   \n12  Newham      Upton Park  TQ405837   \n13  Newham        West Ham  TQ405837   \n14     NaN             NaN       NaN   \n\n                                                 href  \n0   https://tools.wmflabs.org/os/coor_g/?pagename=...  \n1   https://tools.wmflabs.org/os/coor_g/?pagename=...  \n2   https://tools.wmflabs.org/os/coor_g/?pagename=...  \n3   https://tools.wmflabs.org/os/coor_g/?pagename=...  \n4   https://tools.wmflabs.org/os/coor_g/?pagename=...  \n5   https://tools.wmflabs.org/os/coor_g/?pagename=...  \n6   https://tools.wmflabs.org/os/coor_g/?pagename=...  \n7   https://tools.wmflabs.org/os/coor_g/?pagename=...  \n8   https://tools.wmflabs.org/os/coor_g/?pagename=...  \n9   https://tools.wmflabs.org/os/coor_g/?pagename=...  \n10  https://tools.wmflabs.org/os/coor_g/?pagename=...  \n11  https://tools.wmflabs.org/os/coor_g/?pagename=...  \n12  https://tools.wmflabs.org/os/coor_g/?pagename=...  \n13  https://tools.wmflabs.org/os/coor_g/?pagename=...  \n14  https://tools.wmflabs.org/os/coor_g/?pagename=...  "
                    }, 
                    "output_type": "execute_result"
                }
            ], 
            "source": "df_areas_links"
        }, 
        {
            "source": "### Remove the row where there is no data", 
            "cell_type": "markdown", 
            "metadata": {}
        }, 
        {
            "execution_count": 22, 
            "cell_type": "code", 
            "metadata": {}, 
            "outputs": [
                {
                    "execution_count": 22, 
                    "metadata": {}, 
                    "data": {
                        "text/html": "<div>\n<style scoped>\n    .dataframe tbody tr th:only-of-type {\n        vertical-align: middle;\n    }\n\n    .dataframe tbody tr th {\n        vertical-align: top;\n    }\n\n    .dataframe thead th {\n        text-align: right;\n    }\n</style>\n<table border=\"1\" class=\"dataframe\">\n  <thead>\n    <tr style=\"text-align: right;\">\n      <th></th>\n      <th>Borough</th>\n      <th>Area</th>\n      <th>Code</th>\n      <th>href</th>\n    </tr>\n  </thead>\n  <tbody>\n    <tr>\n      <th>0</th>\n      <td>Newham</td>\n      <td>Beckton</td>\n      <td>TQ435815</td>\n      <td>https://tools.wmflabs.org/os/coor_g/?pagename=...</td>\n    </tr>\n    <tr>\n      <th>1</th>\n      <td>Newham</td>\n      <td>Canning Town</td>\n      <td>TQ405815</td>\n      <td>https://tools.wmflabs.org/os/coor_g/?pagename=...</td>\n    </tr>\n    <tr>\n      <th>2</th>\n      <td>Newham</td>\n      <td>Custom House</td>\n      <td>TQ408807</td>\n      <td>https://tools.wmflabs.org/os/coor_g/?pagename=...</td>\n    </tr>\n    <tr>\n      <th>3</th>\n      <td>Newham</td>\n      <td>East Ham</td>\n      <td>TQ425835</td>\n      <td>https://tools.wmflabs.org/os/coor_g/?pagename=...</td>\n    </tr>\n    <tr>\n      <th>4</th>\n      <td>Newham</td>\n      <td>Forest Gate</td>\n      <td>TQ405855</td>\n      <td>https://tools.wmflabs.org/os/coor_g/?pagename=...</td>\n    </tr>\n    <tr>\n      <th>5</th>\n      <td>Newham</td>\n      <td>Little Ilford</td>\n      <td>TQ435855</td>\n      <td>https://tools.wmflabs.org/os/coor_g/?pagename=...</td>\n    </tr>\n    <tr>\n      <th>6</th>\n      <td>Newham</td>\n      <td>Manor Park</td>\n      <td>TQ425855</td>\n      <td>https://tools.wmflabs.org/os/coor_g/?pagename=...</td>\n    </tr>\n    <tr>\n      <th>7</th>\n      <td>Newham</td>\n      <td>Maryland</td>\n      <td>TQ391849</td>\n      <td>https://tools.wmflabs.org/os/coor_g/?pagename=...</td>\n    </tr>\n    <tr>\n      <th>8</th>\n      <td>Newham</td>\n      <td>North Woolwich</td>\n      <td>TQ435795</td>\n      <td>https://tools.wmflabs.org/os/coor_g/?pagename=...</td>\n    </tr>\n    <tr>\n      <th>9</th>\n      <td>Newham</td>\n      <td>Plaistow</td>\n      <td>TQ405825</td>\n      <td>https://tools.wmflabs.org/os/coor_g/?pagename=...</td>\n    </tr>\n    <tr>\n      <th>10</th>\n      <td>Newham</td>\n      <td>Silvertown</td>\n      <td>TQ415795</td>\n      <td>https://tools.wmflabs.org/os/coor_g/?pagename=...</td>\n    </tr>\n    <tr>\n      <th>11</th>\n      <td>Newham</td>\n      <td>Stratford</td>\n      <td>TQ385845</td>\n      <td>https://tools.wmflabs.org/os/coor_g/?pagename=...</td>\n    </tr>\n    <tr>\n      <th>12</th>\n      <td>Newham</td>\n      <td>Upton Park</td>\n      <td>TQ405837</td>\n      <td>https://tools.wmflabs.org/os/coor_g/?pagename=...</td>\n    </tr>\n    <tr>\n      <th>13</th>\n      <td>Newham</td>\n      <td>West Ham</td>\n      <td>TQ405837</td>\n      <td>https://tools.wmflabs.org/os/coor_g/?pagename=...</td>\n    </tr>\n  </tbody>\n</table>\n</div>", 
                        "text/plain": "   Borough            Area      Code  \\\n0   Newham         Beckton  TQ435815   \n1   Newham    Canning Town  TQ405815   \n2   Newham    Custom House  TQ408807   \n3   Newham        East Ham  TQ425835   \n4   Newham     Forest Gate  TQ405855   \n5   Newham   Little Ilford  TQ435855   \n6   Newham      Manor Park  TQ425855   \n7   Newham        Maryland  TQ391849   \n8   Newham  North Woolwich  TQ435795   \n9   Newham        Plaistow  TQ405825   \n10  Newham      Silvertown  TQ415795   \n11  Newham       Stratford  TQ385845   \n12  Newham      Upton Park  TQ405837   \n13  Newham        West Ham  TQ405837   \n\n                                                 href  \n0   https://tools.wmflabs.org/os/coor_g/?pagename=...  \n1   https://tools.wmflabs.org/os/coor_g/?pagename=...  \n2   https://tools.wmflabs.org/os/coor_g/?pagename=...  \n3   https://tools.wmflabs.org/os/coor_g/?pagename=...  \n4   https://tools.wmflabs.org/os/coor_g/?pagename=...  \n5   https://tools.wmflabs.org/os/coor_g/?pagename=...  \n6   https://tools.wmflabs.org/os/coor_g/?pagename=...  \n7   https://tools.wmflabs.org/os/coor_g/?pagename=...  \n8   https://tools.wmflabs.org/os/coor_g/?pagename=...  \n9   https://tools.wmflabs.org/os/coor_g/?pagename=...  \n10  https://tools.wmflabs.org/os/coor_g/?pagename=...  \n11  https://tools.wmflabs.org/os/coor_g/?pagename=...  \n12  https://tools.wmflabs.org/os/coor_g/?pagename=...  \n13  https://tools.wmflabs.org/os/coor_g/?pagename=...  "
                    }, 
                    "output_type": "execute_result"
                }
            ], 
            "source": "df_areas_links = df_areas_links.dropna(how='any')\n\ndf_areas_links"
        }, 
        {
            "source": "### Get the geo co-ordinates for all the areas in the Newham borough", 
            "cell_type": "markdown", 
            "metadata": {}
        }, 
        {
            "execution_count": 23, 
            "cell_type": "code", 
            "metadata": {}, 
            "outputs": [
                {
                    "output_type": "stream", 
                    "name": "stdout", 
                    "text": "[('TQ435815', 51.514642, 0.067375), ('TQ405815', 51.515396, 0.024169), ('TQ408807', 51.508133, 0.028171), ('TQ425835', 51.532867, 0.053782), ('TQ405855', 51.551339, 0.025765), ('TQ435855', 51.550584, 0.069004), ('TQ425855', 51.550838, 0.054591), ('TQ391849', 51.546294, 0.005349), ('TQ435795', 51.496671, 0.066561), ('TQ405825', 51.524382, 0.024568), ('TQ415795', 51.497175, 0.037769), ('TQ385845', 51.542847, -0.003456), ('TQ405837', 51.535165, 0.025046), ('TQ405837', 51.535165, 0.025046)]\n"
                }
            ], 
            "source": "geo_codes = []\nfor row in df_areas_links.itertuples():\n    url = row.href\n    code = row.Code\n    res = requests.get(url).text\n    soup1 = BeautifulSoup(res,'lxml')\n    \n    for lat in soup1.find('span',{'class':'latitude'}):\n        latitude = lat\n        latitude = float(latitude)\n            \n    for long in soup1.find('span',{'class':'longitude'}):    \n        longitude = long\n        longitude = float(longitude)\n        \n    geo_codes.append((code, latitude, longitude))\n\nprint(geo_codes)"
        }, 
        {
            "source": "### Create a DataFrame from the above list", 
            "cell_type": "markdown", 
            "metadata": {}
        }, 
        {
            "execution_count": 24, 
            "cell_type": "code", 
            "metadata": {}, 
            "outputs": [
                {
                    "execution_count": 24, 
                    "metadata": {}, 
                    "data": {
                        "text/html": "<div>\n<style scoped>\n    .dataframe tbody tr th:only-of-type {\n        vertical-align: middle;\n    }\n\n    .dataframe tbody tr th {\n        vertical-align: top;\n    }\n\n    .dataframe thead th {\n        text-align: right;\n    }\n</style>\n<table border=\"1\" class=\"dataframe\">\n  <thead>\n    <tr style=\"text-align: right;\">\n      <th></th>\n      <th>Code</th>\n      <th>Latitude</th>\n      <th>Longitude</th>\n    </tr>\n  </thead>\n  <tbody>\n    <tr>\n      <th>0</th>\n      <td>TQ435815</td>\n      <td>51.514642</td>\n      <td>0.067375</td>\n    </tr>\n    <tr>\n      <th>1</th>\n      <td>TQ405815</td>\n      <td>51.515396</td>\n      <td>0.024169</td>\n    </tr>\n    <tr>\n      <th>2</th>\n      <td>TQ408807</td>\n      <td>51.508133</td>\n      <td>0.028171</td>\n    </tr>\n    <tr>\n      <th>3</th>\n      <td>TQ425835</td>\n      <td>51.532867</td>\n      <td>0.053782</td>\n    </tr>\n    <tr>\n      <th>4</th>\n      <td>TQ405855</td>\n      <td>51.551339</td>\n      <td>0.025765</td>\n    </tr>\n    <tr>\n      <th>5</th>\n      <td>TQ435855</td>\n      <td>51.550584</td>\n      <td>0.069004</td>\n    </tr>\n    <tr>\n      <th>6</th>\n      <td>TQ425855</td>\n      <td>51.550838</td>\n      <td>0.054591</td>\n    </tr>\n    <tr>\n      <th>7</th>\n      <td>TQ391849</td>\n      <td>51.546294</td>\n      <td>0.005349</td>\n    </tr>\n    <tr>\n      <th>8</th>\n      <td>TQ435795</td>\n      <td>51.496671</td>\n      <td>0.066561</td>\n    </tr>\n    <tr>\n      <th>9</th>\n      <td>TQ405825</td>\n      <td>51.524382</td>\n      <td>0.024568</td>\n    </tr>\n    <tr>\n      <th>10</th>\n      <td>TQ415795</td>\n      <td>51.497175</td>\n      <td>0.037769</td>\n    </tr>\n    <tr>\n      <th>11</th>\n      <td>TQ385845</td>\n      <td>51.542847</td>\n      <td>-0.003456</td>\n    </tr>\n    <tr>\n      <th>12</th>\n      <td>TQ405837</td>\n      <td>51.535165</td>\n      <td>0.025046</td>\n    </tr>\n    <tr>\n      <th>13</th>\n      <td>TQ405837</td>\n      <td>51.535165</td>\n      <td>0.025046</td>\n    </tr>\n  </tbody>\n</table>\n</div>", 
                        "text/plain": "        Code   Latitude  Longitude\n0   TQ435815  51.514642   0.067375\n1   TQ405815  51.515396   0.024169\n2   TQ408807  51.508133   0.028171\n3   TQ425835  51.532867   0.053782\n4   TQ405855  51.551339   0.025765\n5   TQ435855  51.550584   0.069004\n6   TQ425855  51.550838   0.054591\n7   TQ391849  51.546294   0.005349\n8   TQ435795  51.496671   0.066561\n9   TQ405825  51.524382   0.024568\n10  TQ415795  51.497175   0.037769\n11  TQ385845  51.542847  -0.003456\n12  TQ405837  51.535165   0.025046\n13  TQ405837  51.535165   0.025046"
                    }, 
                    "output_type": "execute_result"
                }
            ], 
            "source": "df_geo_codes = pd.DataFrame(geo_codes, columns=['Code','Latitude','Longitude'])\n\ndf_geo_codes"
        }, 
        {
            "source": "### Now merge the Neighborhoods and Geocodes DataFrames", 
            "cell_type": "markdown", 
            "metadata": {}
        }, 
        {
            "execution_count": 25, 
            "cell_type": "code", 
            "metadata": {}, 
            "outputs": [
                {
                    "execution_count": 25, 
                    "metadata": {}, 
                    "data": {
                        "text/plain": "Index(['Borough', 'Area', 'Code'], dtype='object')"
                    }, 
                    "output_type": "execute_result"
                }
            ], 
            "source": "df_areas.columns"
        }, 
        {
            "execution_count": 26, 
            "cell_type": "code", 
            "metadata": {}, 
            "outputs": [
                {
                    "execution_count": 26, 
                    "metadata": {}, 
                    "data": {
                        "text/plain": "(14, 3)"
                    }, 
                    "output_type": "execute_result"
                }
            ], 
            "source": "df_areas.shape"
        }, 
        {
            "execution_count": 27, 
            "cell_type": "code", 
            "metadata": {}, 
            "outputs": [
                {
                    "execution_count": 27, 
                    "metadata": {}, 
                    "data": {
                        "text/plain": "Index(['Code', 'Latitude', 'Longitude'], dtype='object')"
                    }, 
                    "output_type": "execute_result"
                }
            ], 
            "source": "df_geo_codes.columns"
        }, 
        {
            "execution_count": 28, 
            "cell_type": "code", 
            "metadata": {}, 
            "outputs": [
                {
                    "execution_count": 28, 
                    "metadata": {}, 
                    "data": {
                        "text/plain": "(14, 3)"
                    }, 
                    "output_type": "execute_result"
                }
            ], 
            "source": "df_geo_codes.shape"
        }, 
        {
            "execution_count": 30, 
            "cell_type": "code", 
            "metadata": {}, 
            "outputs": [
                {
                    "execution_count": 30, 
                    "metadata": {}, 
                    "data": {
                        "text/plain": "Index(['Latitude', 'Longitude'], dtype='object')"
                    }, 
                    "output_type": "execute_result"
                }
            ], 
            "source": "cols = df_geo_codes.columns.difference(df_areas.columns)\ncols"
        }, 
        {
            "execution_count": 31, 
            "cell_type": "code", 
            "metadata": {}, 
            "outputs": [
                {
                    "execution_count": 31, 
                    "metadata": {}, 
                    "data": {
                        "text/html": "<div>\n<style scoped>\n    .dataframe tbody tr th:only-of-type {\n        vertical-align: middle;\n    }\n\n    .dataframe tbody tr th {\n        vertical-align: top;\n    }\n\n    .dataframe thead th {\n        text-align: right;\n    }\n</style>\n<table border=\"1\" class=\"dataframe\">\n  <thead>\n    <tr style=\"text-align: right;\">\n      <th></th>\n      <th>Borough</th>\n      <th>Area</th>\n      <th>Code</th>\n      <th>Latitude</th>\n      <th>Longitude</th>\n    </tr>\n  </thead>\n  <tbody>\n    <tr>\n      <th>0</th>\n      <td>Newham</td>\n      <td>Beckton</td>\n      <td>TQ435815</td>\n      <td>51.514642</td>\n      <td>0.067375</td>\n    </tr>\n    <tr>\n      <th>1</th>\n      <td>Newham</td>\n      <td>Canning Town</td>\n      <td>TQ405815</td>\n      <td>51.515396</td>\n      <td>0.024169</td>\n    </tr>\n    <tr>\n      <th>2</th>\n      <td>Newham</td>\n      <td>Custom House</td>\n      <td>TQ408807</td>\n      <td>51.508133</td>\n      <td>0.028171</td>\n    </tr>\n    <tr>\n      <th>3</th>\n      <td>Newham</td>\n      <td>East Ham</td>\n      <td>TQ425835</td>\n      <td>51.532867</td>\n      <td>0.053782</td>\n    </tr>\n    <tr>\n      <th>4</th>\n      <td>Newham</td>\n      <td>Forest Gate</td>\n      <td>TQ405855</td>\n      <td>51.551339</td>\n      <td>0.025765</td>\n    </tr>\n    <tr>\n      <th>5</th>\n      <td>Newham</td>\n      <td>Little Ilford</td>\n      <td>TQ435855</td>\n      <td>51.550584</td>\n      <td>0.069004</td>\n    </tr>\n    <tr>\n      <th>6</th>\n      <td>Newham</td>\n      <td>Manor Park</td>\n      <td>TQ425855</td>\n      <td>51.550838</td>\n      <td>0.054591</td>\n    </tr>\n    <tr>\n      <th>7</th>\n      <td>Newham</td>\n      <td>Maryland</td>\n      <td>TQ391849</td>\n      <td>51.546294</td>\n      <td>0.005349</td>\n    </tr>\n    <tr>\n      <th>8</th>\n      <td>Newham</td>\n      <td>North Woolwich</td>\n      <td>TQ435795</td>\n      <td>51.496671</td>\n      <td>0.066561</td>\n    </tr>\n    <tr>\n      <th>9</th>\n      <td>Newham</td>\n      <td>Plaistow</td>\n      <td>TQ405825</td>\n      <td>51.524382</td>\n      <td>0.024568</td>\n    </tr>\n    <tr>\n      <th>10</th>\n      <td>Newham</td>\n      <td>Silvertown</td>\n      <td>TQ415795</td>\n      <td>51.497175</td>\n      <td>0.037769</td>\n    </tr>\n    <tr>\n      <th>11</th>\n      <td>Newham</td>\n      <td>Stratford</td>\n      <td>TQ385845</td>\n      <td>51.542847</td>\n      <td>-0.003456</td>\n    </tr>\n    <tr>\n      <th>12</th>\n      <td>Newham</td>\n      <td>Upton Park</td>\n      <td>TQ405837</td>\n      <td>51.535165</td>\n      <td>0.025046</td>\n    </tr>\n    <tr>\n      <th>13</th>\n      <td>Newham</td>\n      <td>West Ham</td>\n      <td>TQ405837</td>\n      <td>51.535165</td>\n      <td>0.025046</td>\n    </tr>\n  </tbody>\n</table>\n</div>", 
                        "text/plain": "   Borough            Area      Code   Latitude  Longitude\n0   Newham         Beckton  TQ435815  51.514642   0.067375\n1   Newham    Canning Town  TQ405815  51.515396   0.024169\n2   Newham    Custom House  TQ408807  51.508133   0.028171\n3   Newham        East Ham  TQ425835  51.532867   0.053782\n4   Newham     Forest Gate  TQ405855  51.551339   0.025765\n5   Newham   Little Ilford  TQ435855  51.550584   0.069004\n6   Newham      Manor Park  TQ425855  51.550838   0.054591\n7   Newham        Maryland  TQ391849  51.546294   0.005349\n8   Newham  North Woolwich  TQ435795  51.496671   0.066561\n9   Newham        Plaistow  TQ405825  51.524382   0.024568\n10  Newham      Silvertown  TQ415795  51.497175   0.037769\n11  Newham       Stratford  TQ385845  51.542847  -0.003456\n12  Newham      Upton Park  TQ405837  51.535165   0.025046\n13  Newham        West Ham  TQ405837  51.535165   0.025046"
                    }, 
                    "output_type": "execute_result"
                }
            ], 
            "source": "Newham_borough = pd.concat([df_areas, df_geo_codes[cols]], axis=1)\nNewham_borough"
        }, 
        {
            "source": "### Change the name of the column 'Area' to 'Neighborhood '", 
            "cell_type": "markdown", 
            "metadata": {}
        }, 
        {
            "execution_count": 32, 
            "cell_type": "code", 
            "metadata": {}, 
            "outputs": [], 
            "source": "Newham_borough = Newham_borough.rename(columns={'Area' :'Neighborhood'})"
        }, 
        {
            "source": "### We do not need the column Code for our further analysis, so we will drop it", 
            "cell_type": "markdown", 
            "metadata": {}
        }, 
        {
            "execution_count": 33, 
            "cell_type": "code", 
            "metadata": {}, 
            "outputs": [
                {
                    "execution_count": 33, 
                    "metadata": {}, 
                    "data": {
                        "text/plain": "Index(['Borough', 'Neighborhood', 'Latitude', 'Longitude'], dtype='object')"
                    }, 
                    "output_type": "execute_result"
                }
            ], 
            "source": "Newham_borough.drop(['Code'], axis=1, inplace=True)\n\nNewham_borough.columns"
        }, 
        {
            "execution_count": 34, 
            "cell_type": "code", 
            "metadata": {}, 
            "outputs": [
                {
                    "execution_count": 34, 
                    "metadata": {}, 
                    "data": {
                        "text/html": "<div>\n<style scoped>\n    .dataframe tbody tr th:only-of-type {\n        vertical-align: middle;\n    }\n\n    .dataframe tbody tr th {\n        vertical-align: top;\n    }\n\n    .dataframe thead th {\n        text-align: right;\n    }\n</style>\n<table border=\"1\" class=\"dataframe\">\n  <thead>\n    <tr style=\"text-align: right;\">\n      <th></th>\n      <th>Borough</th>\n      <th>Neighborhood</th>\n      <th>Latitude</th>\n      <th>Longitude</th>\n    </tr>\n  </thead>\n  <tbody>\n    <tr>\n      <th>0</th>\n      <td>Newham</td>\n      <td>Beckton</td>\n      <td>51.514642</td>\n      <td>0.067375</td>\n    </tr>\n    <tr>\n      <th>1</th>\n      <td>Newham</td>\n      <td>Canning Town</td>\n      <td>51.515396</td>\n      <td>0.024169</td>\n    </tr>\n    <tr>\n      <th>2</th>\n      <td>Newham</td>\n      <td>Custom House</td>\n      <td>51.508133</td>\n      <td>0.028171</td>\n    </tr>\n    <tr>\n      <th>3</th>\n      <td>Newham</td>\n      <td>East Ham</td>\n      <td>51.532867</td>\n      <td>0.053782</td>\n    </tr>\n    <tr>\n      <th>4</th>\n      <td>Newham</td>\n      <td>Forest Gate</td>\n      <td>51.551339</td>\n      <td>0.025765</td>\n    </tr>\n    <tr>\n      <th>5</th>\n      <td>Newham</td>\n      <td>Little Ilford</td>\n      <td>51.550584</td>\n      <td>0.069004</td>\n    </tr>\n    <tr>\n      <th>6</th>\n      <td>Newham</td>\n      <td>Manor Park</td>\n      <td>51.550838</td>\n      <td>0.054591</td>\n    </tr>\n    <tr>\n      <th>7</th>\n      <td>Newham</td>\n      <td>Maryland</td>\n      <td>51.546294</td>\n      <td>0.005349</td>\n    </tr>\n    <tr>\n      <th>8</th>\n      <td>Newham</td>\n      <td>North Woolwich</td>\n      <td>51.496671</td>\n      <td>0.066561</td>\n    </tr>\n    <tr>\n      <th>9</th>\n      <td>Newham</td>\n      <td>Plaistow</td>\n      <td>51.524382</td>\n      <td>0.024568</td>\n    </tr>\n    <tr>\n      <th>10</th>\n      <td>Newham</td>\n      <td>Silvertown</td>\n      <td>51.497175</td>\n      <td>0.037769</td>\n    </tr>\n    <tr>\n      <th>11</th>\n      <td>Newham</td>\n      <td>Stratford</td>\n      <td>51.542847</td>\n      <td>-0.003456</td>\n    </tr>\n    <tr>\n      <th>12</th>\n      <td>Newham</td>\n      <td>Upton Park</td>\n      <td>51.535165</td>\n      <td>0.025046</td>\n    </tr>\n    <tr>\n      <th>13</th>\n      <td>Newham</td>\n      <td>West Ham</td>\n      <td>51.535165</td>\n      <td>0.025046</td>\n    </tr>\n  </tbody>\n</table>\n</div>", 
                        "text/plain": "   Borough    Neighborhood   Latitude  Longitude\n0   Newham         Beckton  51.514642   0.067375\n1   Newham    Canning Town  51.515396   0.024169\n2   Newham    Custom House  51.508133   0.028171\n3   Newham        East Ham  51.532867   0.053782\n4   Newham     Forest Gate  51.551339   0.025765\n5   Newham   Little Ilford  51.550584   0.069004\n6   Newham      Manor Park  51.550838   0.054591\n7   Newham        Maryland  51.546294   0.005349\n8   Newham  North Woolwich  51.496671   0.066561\n9   Newham        Plaistow  51.524382   0.024568\n10  Newham      Silvertown  51.497175   0.037769\n11  Newham       Stratford  51.542847  -0.003456\n12  Newham      Upton Park  51.535165   0.025046\n13  Newham        West Ham  51.535165   0.025046"
                    }, 
                    "output_type": "execute_result"
                }
            ], 
            "source": "Newham_borough"
        }, 
        {
            "execution_count": 35, 
            "cell_type": "code", 
            "metadata": {}, 
            "outputs": [
                {
                    "execution_count": 35, 
                    "metadata": {}, 
                    "data": {
                        "text/plain": "Borough          object\nNeighborhood     object\nLatitude        float64\nLongitude       float64\ndtype: object"
                    }, 
                    "output_type": "execute_result"
                }
            ], 
            "source": "Newham_borough.dtypes"
        }, 
        {
            "source": "### Now lets get the Coordinates of Newham Borough", 
            "cell_type": "markdown", 
            "metadata": {}
        }, 
        {
            "execution_count": 37, 
            "cell_type": "code", 
            "metadata": {}, 
            "outputs": [
                {
                    "output_type": "stream", 
                    "name": "stdout", 
                    "text": "The geograpical coordinate of Newham are 51.52999955, 0.0293179602938221.\n"
                }
            ], 
            "source": "address = 'Newham, London'\n\ngeolocator = Nominatim()\nlocation = geolocator.geocode(address)\nlatitude = location.latitude\nlongitude = location.longitude\nprint('The geograpical coordinate of Newham are {}, {}.'.format(latitude, longitude))"
        }, 
        {
            "source": "# Let's Visualize the Areas(Neighborhoods) of Newham Borough", 
            "cell_type": "markdown", 
            "metadata": {}
        }, 
        {
            "execution_count": 38, 
            "cell_type": "code", 
            "metadata": {}, 
            "outputs": [
                {
                    "execution_count": 38, 
                    "metadata": {}, 
                    "data": {
                        "text/html": "<div style=\"width:100%;\"><div style=\"position:relative;width:100%;height:0;padding-bottom:60%;\"><iframe src=\"data:text/html;charset=utf-8;base64,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\" style=\"position:absolute;width:100%;height:100%;left:0;top:0;border:none !important;\" allowfullscreen webkitallowfullscreen mozallowfullscreen></iframe></div></div>", 
                        "text/plain": "<folium.folium.Map at 0x7fb84f4e3978>"
                    }, 
                    "output_type": "execute_result"
                }
            ], 
            "source": "# create map of Newham using latitude and longitude values\nmap_Newham = folium.Map(location=[latitude, longitude], zoom_start=11)\n\n# add markers to map\nfor lat, lng, label in zip(Newham_borough['Latitude'], Newham_borough['Longitude'], Newham_borough['Neighborhood']):\n    label = folium.Popup(label, parse_html=True)\n    folium.CircleMarker(\n        [lat, lng],\n        radius=5,\n        popup=label,\n        color='blue',\n        fill=True,\n        fill_color='#3186cc',\n        fill_opacity=0.7).add_to(map_Newham)  \n    \nmap_Newham"
        }, 
        {
            "source": "### Define FourSquare Credentials", 
            "cell_type": "markdown", 
            "metadata": {}
        }, 
        {
            "execution_count": 39, 
            "cell_type": "code", 
            "metadata": {}, 
            "outputs": [], 
            "source": "CLIENT_ID = '4S2SWSJCB4RJUNTMOXCBRS1DJ5TBD23RSSJHX1NO2ZAEA4U1' \nCLIENT_SECRET = 'L2K1DJXYPKRXTC0LTUFLHMOQLN2MSZVQKYEI43CQASFNOFTI' \nVERSION = '20191102'"
        }, 
        {
            "source": "### Let's explore the first Neighborhood(Area) in Newham Borough", 
            "cell_type": "markdown", 
            "metadata": {}
        }, 
        {
            "execution_count": 40, 
            "cell_type": "code", 
            "metadata": {}, 
            "outputs": [
                {
                    "execution_count": 40, 
                    "metadata": {}, 
                    "data": {
                        "text/plain": "(14, 4)"
                    }, 
                    "output_type": "execute_result"
                }
            ], 
            "source": "Newham_borough.shape"
        }, 
        {
            "execution_count": 41, 
            "cell_type": "code", 
            "metadata": {}, 
            "outputs": [
                {
                    "execution_count": 41, 
                    "metadata": {}, 
                    "data": {
                        "text/plain": "Index(['Borough', 'Neighborhood', 'Latitude', 'Longitude'], dtype='object')"
                    }, 
                    "output_type": "execute_result"
                }
            ], 
            "source": "Newham_borough.columns"
        }, 
        {
            "execution_count": 42, 
            "cell_type": "code", 
            "metadata": {}, 
            "outputs": [
                {
                    "execution_count": 42, 
                    "metadata": {}, 
                    "data": {
                        "text/plain": "'Beckton'"
                    }, 
                    "output_type": "execute_result"
                }
            ], 
            "source": "Newham_borough.loc[0, 'Neighborhood']"
        }, 
        {
            "execution_count": 43, 
            "cell_type": "code", 
            "metadata": {}, 
            "outputs": [
                {
                    "execution_count": 43, 
                    "metadata": {}, 
                    "data": {
                        "text/plain": "Borough           Newham\nNeighborhood     Beckton\nLatitude         51.5146\nLongitude       0.067375\nName: 0, dtype: object"
                    }, 
                    "output_type": "execute_result"
                }
            ], 
            "source": "Newham_borough.loc[0]"
        }, 
        {
            "source": "### Get the Neighborhood's latitude and longitude value", 
            "cell_type": "markdown", 
            "metadata": {}
        }, 
        {
            "execution_count": 44, 
            "cell_type": "code", 
            "metadata": {}, 
            "outputs": [
                {
                    "output_type": "stream", 
                    "name": "stdout", 
                    "text": "Latitude and longitude values of Beckton are 51.514642, 0.067375.\n"
                }
            ], 
            "source": "neighborhood_latitude = Newham_borough.loc[0, 'Latitude'] # neighborhood latitude value\nneighborhood_longitude = Newham_borough.loc[0, 'Longitude'] # neighborhood longitude value\n\nneighborhood_name = Newham_borough.loc[0, 'Neighborhood'] # neighborhood name\n\nprint('Latitude and longitude values of {} are {}, {}.'.format(neighborhood_name, \n                                                               neighborhood_latitude, \n                                                               neighborhood_longitude))"
        }, 
        {
            "source": "### Now get the top 100 places of Newham Neighborhood within 500KM radius\n\n### Create the GET request URL. Name your URL url.", 
            "cell_type": "markdown", 
            "metadata": {}
        }, 
        {
            "execution_count": 45, 
            "cell_type": "code", 
            "metadata": {}, 
            "outputs": [
                {
                    "execution_count": 45, 
                    "metadata": {}, 
                    "data": {
                        "text/plain": "'https://api.foursquare.com/v2/venues/explore?&client_id=4S2SWSJCB4RJUNTMOXCBRS1DJ5TBD23RSSJHX1NO2ZAEA4U1&client_secret=       L2K1DJXYPKRXTC0LTUFLHMOQLN2MSZVQKYEI43CQASFNOFTI&v=20191102&ll=51.514642,0.067375&radius=500&limit=100'"
                    }, 
                    "output_type": "execute_result"
                }
            ], 
            "source": "LIMIT = 100 # limit of number of venues returned by Foursquare API\nradius = 500 # define radius\n# create URL\nurl = 'https://api.foursquare.com/v2/venues/explore?&client_id={}&client_secret=\\\n       {}&v={}&ll={},{}&radius={}&limit={}'.format(\n    CLIENT_ID, \n    CLIENT_SECRET, \n    VERSION, \n    neighborhood_latitude, \n    neighborhood_longitude, \n    radius, \n    LIMIT)\nurl # display URL"
        }, 
        {
            "execution_count": 46, 
            "cell_type": "code", 
            "metadata": {}, 
            "outputs": [
                {
                    "execution_count": 46, 
                    "metadata": {}, 
                    "data": {
                        "text/plain": "{'meta': {'code': 200, 'requestId': '5c7950174434b95787cf0813'},\n 'response': {'groups': [{'items': [{'reasons': {'count': 0,\n       'items': [{'reasonName': 'globalInteractionReason',\n         'summary': 'This spot is popular',\n         'type': 'general'}]},\n      'referralId': 'e-0-4cd462e4886cb60c1bcb7d89-0',\n      'venue': {'categories': [{'icon': {'prefix': 'https://ss3.4sqi.net/img/categories_v2/shops/food_grocery_',\n          'suffix': '.png'},\n         'id': '4bf58dd8d48988d118951735',\n         'name': 'Grocery Store',\n         'pluralName': 'Grocery Stores',\n         'primary': True,\n         'shortName': 'Grocery Store'}],\n       'id': '4cd462e4886cb60c1bcb7d89',\n       'location': {'address': 'Alpine Way (Unit 4C, Beckton Retail Park)',\n        'cc': 'GB',\n        'city': 'London',\n        'country': 'United Kingdom',\n        'distance': 367,\n        'formattedAddress': ['Alpine Way (Unit 4C, Beckton Retail Park)',\n         'London',\n         'Greater London',\n         'E6 6LA',\n         'United Kingdom'],\n        'labeledLatLngs': [{'label': 'display',\n          'lat': 51.51644209755886,\n          'lng': 0.06292681188810904}],\n        'lat': 51.51644209755886,\n        'lng': 0.06292681188810904,\n        'postalCode': 'E6 6LA',\n        'state': 'Greater London'},\n       'name': 'Lituanica',\n       'photos': {'count': 0, 'groups': []}}},\n     {'reasons': {'count': 0,\n       'items': [{'reasonName': 'globalInteractionReason',\n         'summary': 'This spot is popular',\n         'type': 'general'}]},\n      'referralId': 'e-0-52cecf5711d25db28fc70b17-1',\n      'venue': {'categories': [{'icon': {'prefix': 'https://ss3.4sqi.net/img/categories_v2/shops/discountstore_',\n          'suffix': '.png'},\n         'id': '52dea92d3cf9994f4e043dbb',\n         'name': 'Discount Store',\n         'pluralName': 'Discount Stores',\n         'primary': True,\n         'shortName': 'Discount Store'}],\n       'id': '52cecf5711d25db28fc70b17',\n       'location': {'address': 'Alpine Way',\n        'cc': 'GB',\n        'country': 'United Kingdom',\n        'distance': 427,\n        'formattedAddress': ['Alpine Way', 'United Kingdom'],\n        'labeledLatLngs': [{'label': 'display',\n          'lat': 51.517190267073836,\n          'lng': 0.06275368423335088}],\n        'lat': 51.517190267073836,\n        'lng': 0.06275368423335088},\n       'name': 'Home Bargains',\n       'photos': {'count': 0, 'groups': []}}},\n     {'reasons': {'count': 0,\n       'items': [{'reasonName': 'globalInteractionReason',\n         'summary': 'This spot is popular',\n         'type': 'general'}]},\n      'referralId': 'e-0-4bbed90a98f4952177d8d163-2',\n      'venue': {'categories': [{'icon': {'prefix': 'https://ss3.4sqi.net/img/categories_v2/travel/hotel_',\n          'suffix': '.png'},\n         'id': '4bf58dd8d48988d1fa931735',\n         'name': 'Hotel',\n         'pluralName': 'Hotels',\n         'primary': True,\n         'shortName': 'Hotel'}],\n       'id': '4bbed90a98f4952177d8d163',\n       'location': {'address': '1 Woolwich Manor Way',\n        'cc': 'GB',\n        'city': 'London',\n        'country': 'United Kingdom',\n        'crossStreet': '1 Woolwich Manor Way',\n        'distance': 445,\n        'formattedAddress': ['1 Woolwich Manor Way (1 Woolwich Manor Way)',\n         'London',\n         'E6 5NT',\n         'United Kingdom'],\n        'labeledLatLngs': [{'label': 'display',\n          'lat': 51.5150175,\n          'lng': 0.0609785}],\n        'lat': 51.5150175,\n        'lng': 0.0609785,\n        'postalCode': 'E6 5NT'},\n       'name': 'Premier Inn London Beckton',\n       'photos': {'count': 0, 'groups': []}}},\n     {'reasons': {'count': 0,\n       'items': [{'reasonName': 'globalInteractionReason',\n         'summary': 'This spot is popular',\n         'type': 'general'}]},\n      'referralId': 'e-0-4f942748e4b04c0c9f9862d0-3',\n      'venue': {'categories': [{'icon': {'prefix': 'https://ss3.4sqi.net/img/categories_v2/shops/furniture_',\n          'suffix': '.png'},\n         'id': '4bf58dd8d48988d1f8941735',\n         'name': 'Furniture / Home Store',\n         'pluralName': 'Furniture / Home Stores',\n         'primary': True,\n         'shortName': 'Furniture / Home'}],\n       'id': '4f942748e4b04c0c9f9862d0',\n       'location': {'address': 'Beckton Retail Park, Alpine Way',\n        'cc': 'GB',\n        'city': 'Beckton',\n        'country': 'United Kingdom',\n        'distance': 342,\n        'formattedAddress': ['Beckton Retail Park, Alpine Way',\n         'Beckton',\n         'Greater London',\n         'E6 6LA',\n         'United Kingdom'],\n        'labeledLatLngs': [{'label': 'display',\n          'lat': 51.516101,\n          'lng': 0.063028}],\n        'lat': 51.516101,\n        'lng': 0.063028,\n        'postalCode': 'E6 6LA',\n        'state': 'Greater London'},\n       'name': 'Dreams Beckton',\n       'photos': {'count': 0, 'groups': []}}},\n     {'reasons': {'count': 0,\n       'items': [{'reasonName': 'globalInteractionReason',\n         'summary': 'This spot is popular',\n         'type': 'general'}]},\n      'referralId': 'e-0-4bf69e4cbfeac92898a19436-4',\n      'venue': {'categories': [{'icon': {'prefix': 'https://ss3.4sqi.net/img/categories_v2/travel/lightrail_',\n          'suffix': '.png'},\n         'id': '4bf58dd8d48988d1fc931735',\n         'name': 'Light Rail Station',\n         'pluralName': 'Light Rail Stations',\n         'primary': True,\n         'shortName': 'Light Rail'}],\n       'id': '4bf69e4cbfeac92898a19436',\n       'location': {'address': 'Woolwich Manor Way',\n        'cc': 'GB',\n        'city': 'Beckton',\n        'country': 'United Kingdom',\n        'distance': 410,\n        'formattedAddress': ['Woolwich Manor Way',\n         'Beckton',\n         'Greater London',\n         'E6 5NT',\n         'United Kingdom'],\n        'labeledLatLngs': [{'label': 'display',\n          'lat': 51.51436463106562,\n          'lng': 0.061460137367248535}],\n        'lat': 51.51436463106562,\n        'lng': 0.061460137367248535,\n        'postalCode': 'E6 5NT',\n        'state': 'Greater London'},\n       'name': 'Beckton DLR Station',\n       'photos': {'count': 0, 'groups': []}}},\n     {'reasons': {'count': 0,\n       'items': [{'reasonName': 'globalInteractionReason',\n         'summary': 'This spot is popular',\n         'type': 'general'}]},\n      'referralId': 'e-0-50228c58e4b057124f4b1b58-5',\n      'venue': {'categories': [{'icon': {'prefix': 'https://ss3.4sqi.net/img/categories_v2/shops/apparel_',\n          'suffix': '.png'},\n         'id': '4bf58dd8d48988d103951735',\n         'name': 'Clothing Store',\n         'pluralName': 'Clothing Stores',\n         'primary': True,\n         'shortName': 'Apparel'}],\n       'id': '50228c58e4b057124f4b1b58',\n       'location': {'address': '8, Beckton Retail Park, Alpine Way',\n        'cc': 'GB',\n        'city': 'Beckton',\n        'country': 'United Kingdom',\n        'distance': 416,\n        'formattedAddress': ['8, Beckton Retail Park, Alpine Way',\n         'Beckton',\n         'E6 6LA',\n         'United Kingdom'],\n        'labeledLatLngs': [{'label': 'display',\n          'lat': 51.51626701119118,\n          'lng': 0.06196051215582541}],\n        'lat': 51.51626701119118,\n        'lng': 0.06196051215582541,\n        'postalCode': 'E6 6LA'},\n       'name': 'Matalan',\n       'photos': {'count': 0, 'groups': []}}},\n     {'reasons': {'count': 0,\n       'items': [{'reasonName': 'globalInteractionReason',\n         'summary': 'This spot is popular',\n         'type': 'general'}]},\n      'referralId': 'e-0-4cee7f6d0acea35d33ebe9ae-6',\n      'venue': {'categories': [{'icon': {'prefix': 'https://ss3.4sqi.net/img/categories_v2/shops/mall_',\n          'suffix': '.png'},\n         'id': '5744ccdfe4b0c0459246b4dc',\n         'name': 'Shopping Plaza',\n         'pluralName': 'Shopping Plazas',\n         'primary': True,\n         'shortName': 'Shopping Plaza'}],\n       'id': '4cee7f6d0acea35d33ebe9ae',\n       'location': {'address': '9 Alpine Way',\n        'cc': 'GB',\n        'city': 'Beckton',\n        'country': 'United Kingdom',\n        'distance': 483,\n        'formattedAddress': ['9 Alpine Way',\n         'Beckton',\n         'Greater London',\n         'E6 6LA',\n         'United Kingdom'],\n        'labeledLatLngs': [{'label': 'display',\n          'lat': 51.51527720416674,\n          'lng': 0.06047142600895339}],\n        'lat': 51.51527720416674,\n        'lng': 0.06047142600895339,\n        'postalCode': 'E6 6LA',\n        'state': 'Greater London'},\n       'name': 'Beckton Retail Park',\n       'photos': {'count': 0, 'groups': []}}},\n     {'reasons': {'count': 0,\n       'items': [{'reasonName': 'globalInteractionReason',\n         'summary': 'This spot is popular',\n         'type': 'general'}]},\n      'referralId': 'e-0-4c07fc177e3fc928ea98ef82-7',\n      'venue': {'categories': [{'icon': {'prefix': 'https://ss3.4sqi.net/img/categories_v2/nightlife/pub_',\n          'suffix': '.png'},\n         'id': '4bf58dd8d48988d11b941735',\n         'name': 'Pub',\n         'pluralName': 'Pubs',\n         'primary': True,\n         'shortName': 'Pub'}],\n       'id': '4c07fc177e3fc928ea98ef82',\n       'location': {'address': '1 Woolwich Manor Way',\n        'cc': 'GB',\n        'city': 'Beckton',\n        'country': 'United Kingdom',\n        'distance': 451,\n        'formattedAddress': ['1 Woolwich Manor Way',\n         'Beckton',\n         'Greater London',\n         'E6 5NT',\n         'United Kingdom'],\n        'labeledLatLngs': [{'label': 'display',\n          'lat': 51.51481196163808,\n          'lng': 0.06086126705726321}],\n        'lat': 51.51481196163808,\n        'lng': 0.06086126705726321,\n        'postalCode': 'E6 5NT',\n        'state': 'Greater London'},\n       'name': 'Brewers Fayre',\n       'photos': {'count': 0, 'groups': []}}}],\n    'name': 'recommended',\n    'type': 'Recommended Places'}],\n  'headerFullLocation': 'Beckton, London',\n  'headerLocation': 'Beckton',\n  'headerLocationGranularity': 'neighborhood',\n  'suggestedBounds': {'ne': {'lat': 51.519142004500004,\n    'lng': 0.07459257505421912},\n   'sw': {'lat': 51.5101419955, 'lng': 0.060157424945780885}},\n  'suggestedFilters': {'filters': [{'key': 'openNow', 'name': 'Open now'}],\n   'header': 'Tap to show:'},\n  'totalResults': 8}}"
                    }, 
                    "output_type": "execute_result"
                }
            ], 
            "source": "results = requests.get(url).json()\nresults"
        }, 
        {
            "source": "### Extract the Categories of the Venues", 
            "cell_type": "markdown", 
            "metadata": {}
        }, 
        {
            "execution_count": 47, 
            "cell_type": "code", 
            "metadata": {}, 
            "outputs": [], 
            "source": "# function that extracts the category of the venue\ndef get_category_type(row):\n    try:\n        categories_list = row['categories']\n    except:\n        categories_list = row['venue.categories']\n        \n    if len(categories_list) == 0:\n        return None\n    else:\n        return categories_list[0]['name']"
        }, 
        {
            "source": "### We are ready to clean the json and structure it into a pandas dataframe.\u00b6", 
            "cell_type": "markdown", 
            "metadata": {}
        }, 
        {
            "execution_count": 48, 
            "cell_type": "code", 
            "metadata": {}, 
            "outputs": [
                {
                    "execution_count": 48, 
                    "metadata": {}, 
                    "data": {
                        "text/html": "<div>\n<style scoped>\n    .dataframe tbody tr th:only-of-type {\n        vertical-align: middle;\n    }\n\n    .dataframe tbody tr th {\n        vertical-align: top;\n    }\n\n    .dataframe thead th {\n        text-align: right;\n    }\n</style>\n<table border=\"1\" class=\"dataframe\">\n  <thead>\n    <tr style=\"text-align: right;\">\n      <th></th>\n      <th>name</th>\n      <th>categories</th>\n      <th>lat</th>\n      <th>lng</th>\n    </tr>\n  </thead>\n  <tbody>\n    <tr>\n      <th>0</th>\n      <td>Lituanica</td>\n      <td>Grocery Store</td>\n      <td>51.516442</td>\n      <td>0.062927</td>\n    </tr>\n    <tr>\n      <th>1</th>\n      <td>Home Bargains</td>\n      <td>Discount Store</td>\n      <td>51.517190</td>\n      <td>0.062754</td>\n    </tr>\n    <tr>\n      <th>2</th>\n      <td>Premier Inn London Beckton</td>\n      <td>Hotel</td>\n      <td>51.515017</td>\n      <td>0.060978</td>\n    </tr>\n    <tr>\n      <th>3</th>\n      <td>Dreams Beckton</td>\n      <td>Furniture / Home Store</td>\n      <td>51.516101</td>\n      <td>0.063028</td>\n    </tr>\n    <tr>\n      <th>4</th>\n      <td>Beckton DLR Station</td>\n      <td>Light Rail Station</td>\n      <td>51.514365</td>\n      <td>0.061460</td>\n    </tr>\n  </tbody>\n</table>\n</div>", 
                        "text/plain": "                         name              categories        lat       lng\n0                   Lituanica           Grocery Store  51.516442  0.062927\n1               Home Bargains          Discount Store  51.517190  0.062754\n2  Premier Inn London Beckton                   Hotel  51.515017  0.060978\n3              Dreams Beckton  Furniture / Home Store  51.516101  0.063028\n4         Beckton DLR Station      Light Rail Station  51.514365  0.061460"
                    }, 
                    "output_type": "execute_result"
                }
            ], 
            "source": "results = requests.get(url).json()\n\nvenues = results['response']['groups'][0]['items']\nnearby_venues = json_normalize(venues) # flatten JSON\n\n# filter columns\nfiltered_columns = ['venue.name', 'venue.categories', 'venue.location.lat', 'venue.location.lng']\nnearby_venues =nearby_venues.loc[:, filtered_columns]\n\n# filter the category for each row\nnearby_venues['venue.categories'] = nearby_venues.apply(get_category_type, axis=1)\n\n# clean columns\nnearby_venues.columns = [col.split(\".\")[-1] for col in nearby_venues.columns]\nnearby_venues.head()"
        }, 
        {
            "execution_count": 49, 
            "cell_type": "code", 
            "metadata": {}, 
            "outputs": [
                {
                    "execution_count": 49, 
                    "metadata": {}, 
                    "data": {
                        "text/plain": "(8, 4)"
                    }, 
                    "output_type": "execute_result"
                }
            ], 
            "source": "nearby_venues.shape"
        }, 
        {
            "execution_count": 50, 
            "cell_type": "code", 
            "metadata": {}, 
            "outputs": [
                {
                    "execution_count": 50, 
                    "metadata": {}, 
                    "data": {
                        "text/plain": "Home Bargains                 1\nMatalan                       1\nLituanica                     1\nPremier Inn London Beckton    1\nBeckton Retail Park           1\nBeckton DLR Station           1\nDreams Beckton                1\nBrewers Fayre                 1\nName: name, dtype: int64"
                    }, 
                    "output_type": "execute_result"
                }
            ], 
            "source": "nearby_venues['name'].value_counts()"
        }, 
        {
            "source": "### And how many venues were returned by Foursquare?", 
            "cell_type": "markdown", 
            "metadata": {}
        }, 
        {
            "execution_count": 52, 
            "cell_type": "code", 
            "metadata": {}, 
            "outputs": [
                {
                    "output_type": "stream", 
                    "name": "stdout", 
                    "text": "8 venues were returned by Foursquare.\n"
                }
            ], 
            "source": "print('{} venues were returned by Foursquare.'.format(nearby_venues.shape[0]))"
        }, 
        {
            "source": "# 2) Explore Neighborhoods in Newham Borough", 
            "cell_type": "markdown", 
            "metadata": {}
        }, 
        {
            "execution_count": 53, 
            "cell_type": "code", 
            "metadata": {}, 
            "outputs": [], 
            "source": "def getNearbyVenues(names, latitudes, longitudes, radius=500):\n    venues_list=[]\n    for name, lat, lng in zip(names, latitudes, longitudes):\n        # create the API request URL\n        url = 'https://api.foursquare.com/v2/venues/explore?&client_id={}&client_secret={}&v={}&ll={},{}&radius={}&limit={}'.format(\n            CLIENT_ID, CLIENT_SECRET, \n            VERSION, lat, lng, radius, LIMIT)\n            \n        # make the GET request\n        results = requests.get(url).json()[\"response\"]['groups'][0]['items']\n        \n        # return only relevant information for each nearby venue\n        venues_list.append([(\n            name, lat, lng, \n            v['venue']['name'], \n            v['venue']['location']['lat'], \n            v['venue']['location']['lng'],  \n            v['venue']['categories'][0]['name']) for v in results])\n\n    nearby_venues = pd.DataFrame([item for venue_list in venues_list for item in venue_list])\n    nearby_venues.columns = ['Neighborhood', 'Neighborhood Latitude', 'Neighborhood Longitude', \n                             'Venue', 'Venue Latitude', 'Venue Longitude', 'Venue Category']\n    \n    return(nearby_venues)"
        }, 
        {
            "source": "### Now write the code to run the above function on each neighborhood and create a new dataframe called Newham venues", 
            "cell_type": "markdown", 
            "metadata": {}
        }, 
        {
            "execution_count": 54, 
            "cell_type": "code", 
            "metadata": {}, 
            "outputs": [], 
            "source": "Newham_venues = getNearbyVenues(names=Newham_borough['Neighborhood'],\n                                   latitudes=Newham_borough['Latitude'],\n                                   longitudes=Newham_borough['Longitude']\n                                  )"
        }, 
        {
            "execution_count": 55, 
            "cell_type": "code", 
            "metadata": {}, 
            "outputs": [
                {
                    "execution_count": 55, 
                    "metadata": {}, 
                    "data": {
                        "text/plain": "(206, 7)"
                    }, 
                    "output_type": "execute_result"
                }
            ], 
            "source": "Newham_venues.shape"
        }, 
        {
            "execution_count": 56, 
            "cell_type": "code", 
            "metadata": {}, 
            "outputs": [
                {
                    "execution_count": 56, 
                    "metadata": {}, 
                    "data": {
                        "text/html": "<div>\n<style scoped>\n    .dataframe tbody tr th:only-of-type {\n        vertical-align: middle;\n    }\n\n    .dataframe tbody tr th {\n        vertical-align: top;\n    }\n\n    .dataframe thead th {\n        text-align: right;\n    }\n</style>\n<table border=\"1\" class=\"dataframe\">\n  <thead>\n    <tr style=\"text-align: right;\">\n      <th></th>\n      <th>Neighborhood</th>\n      <th>Neighborhood Latitude</th>\n      <th>Neighborhood Longitude</th>\n      <th>Venue</th>\n      <th>Venue Latitude</th>\n      <th>Venue Longitude</th>\n      <th>Venue Category</th>\n    </tr>\n  </thead>\n  <tbody>\n    <tr>\n      <th>0</th>\n      <td>Beckton</td>\n      <td>51.514642</td>\n      <td>0.067375</td>\n      <td>Lituanica</td>\n      <td>51.516442</td>\n      <td>0.062927</td>\n      <td>Grocery Store</td>\n    </tr>\n    <tr>\n      <th>1</th>\n      <td>Beckton</td>\n      <td>51.514642</td>\n      <td>0.067375</td>\n      <td>Home Bargains</td>\n      <td>51.517190</td>\n      <td>0.062754</td>\n      <td>Discount Store</td>\n    </tr>\n    <tr>\n      <th>2</th>\n      <td>Beckton</td>\n      <td>51.514642</td>\n      <td>0.067375</td>\n      <td>Premier Inn London Beckton</td>\n      <td>51.515017</td>\n      <td>0.060978</td>\n      <td>Hotel</td>\n    </tr>\n    <tr>\n      <th>3</th>\n      <td>Beckton</td>\n      <td>51.514642</td>\n      <td>0.067375</td>\n      <td>Dreams Beckton</td>\n      <td>51.516101</td>\n      <td>0.063028</td>\n      <td>Furniture / Home Store</td>\n    </tr>\n    <tr>\n      <th>4</th>\n      <td>Beckton</td>\n      <td>51.514642</td>\n      <td>0.067375</td>\n      <td>Beckton DLR Station</td>\n      <td>51.514365</td>\n      <td>0.061460</td>\n      <td>Light Rail Station</td>\n    </tr>\n  </tbody>\n</table>\n</div>", 
                        "text/plain": "  Neighborhood  Neighborhood Latitude  Neighborhood Longitude  \\\n0      Beckton              51.514642                0.067375   \n1      Beckton              51.514642                0.067375   \n2      Beckton              51.514642                0.067375   \n3      Beckton              51.514642                0.067375   \n4      Beckton              51.514642                0.067375   \n\n                        Venue  Venue Latitude  Venue Longitude  \\\n0                   Lituanica       51.516442         0.062927   \n1               Home Bargains       51.517190         0.062754   \n2  Premier Inn London Beckton       51.515017         0.060978   \n3              Dreams Beckton       51.516101         0.063028   \n4         Beckton DLR Station       51.514365         0.061460   \n\n           Venue Category  \n0           Grocery Store  \n1          Discount Store  \n2                   Hotel  \n3  Furniture / Home Store  \n4      Light Rail Station  "
                    }, 
                    "output_type": "execute_result"
                }
            ], 
            "source": "Newham_venues.head()"
        }, 
        {
            "source": "### Let's check how many venues were returned for each neighborhood", 
            "cell_type": "markdown", 
            "metadata": {}
        }, 
        {
            "execution_count": 57, 
            "cell_type": "code", 
            "metadata": {}, 
            "outputs": [
                {
                    "execution_count": 57, 
                    "metadata": {}, 
                    "data": {
                        "text/html": "<div>\n<style scoped>\n    .dataframe tbody tr th:only-of-type {\n        vertical-align: middle;\n    }\n\n    .dataframe tbody tr th {\n        vertical-align: top;\n    }\n\n    .dataframe thead th {\n        text-align: right;\n    }\n</style>\n<table border=\"1\" class=\"dataframe\">\n  <thead>\n    <tr style=\"text-align: right;\">\n      <th></th>\n      <th>Neighborhood Latitude</th>\n      <th>Neighborhood Longitude</th>\n      <th>Venue</th>\n      <th>Venue Latitude</th>\n      <th>Venue Longitude</th>\n      <th>Venue Category</th>\n    </tr>\n    <tr>\n      <th>Neighborhood</th>\n      <th></th>\n      <th></th>\n      <th></th>\n      <th></th>\n      <th></th>\n      <th></th>\n    </tr>\n  </thead>\n  <tbody>\n    <tr>\n      <th>Beckton</th>\n      <td>8</td>\n      <td>8</td>\n      <td>8</td>\n      <td>8</td>\n      <td>8</td>\n      <td>8</td>\n    </tr>\n    <tr>\n      <th>Canning Town</th>\n      <td>4</td>\n      <td>4</td>\n      <td>4</td>\n      <td>4</td>\n      <td>4</td>\n      <td>4</td>\n    </tr>\n    <tr>\n      <th>Custom House</th>\n      <td>23</td>\n      <td>23</td>\n      <td>23</td>\n      <td>23</td>\n      <td>23</td>\n      <td>23</td>\n    </tr>\n    <tr>\n      <th>East Ham</th>\n      <td>19</td>\n      <td>19</td>\n      <td>19</td>\n      <td>19</td>\n      <td>19</td>\n      <td>19</td>\n    </tr>\n    <tr>\n      <th>Forest Gate</th>\n      <td>11</td>\n      <td>11</td>\n      <td>11</td>\n      <td>11</td>\n      <td>11</td>\n      <td>11</td>\n    </tr>\n    <tr>\n      <th>Little Ilford</th>\n      <td>4</td>\n      <td>4</td>\n      <td>4</td>\n      <td>4</td>\n      <td>4</td>\n      <td>4</td>\n    </tr>\n    <tr>\n      <th>Manor Park</th>\n      <td>5</td>\n      <td>5</td>\n      <td>5</td>\n      <td>5</td>\n      <td>5</td>\n      <td>5</td>\n    </tr>\n    <tr>\n      <th>Maryland</th>\n      <td>22</td>\n      <td>22</td>\n      <td>22</td>\n      <td>22</td>\n      <td>22</td>\n      <td>22</td>\n    </tr>\n    <tr>\n      <th>North Woolwich</th>\n      <td>18</td>\n      <td>18</td>\n      <td>18</td>\n      <td>18</td>\n      <td>18</td>\n      <td>18</td>\n    </tr>\n    <tr>\n      <th>Plaistow</th>\n      <td>8</td>\n      <td>8</td>\n      <td>8</td>\n      <td>8</td>\n      <td>8</td>\n      <td>8</td>\n    </tr>\n    <tr>\n      <th>Silvertown</th>\n      <td>6</td>\n      <td>6</td>\n      <td>6</td>\n      <td>6</td>\n      <td>6</td>\n      <td>6</td>\n    </tr>\n    <tr>\n      <th>Stratford</th>\n      <td>70</td>\n      <td>70</td>\n      <td>70</td>\n      <td>70</td>\n      <td>70</td>\n      <td>70</td>\n    </tr>\n    <tr>\n      <th>Upton Park</th>\n      <td>4</td>\n      <td>4</td>\n      <td>4</td>\n      <td>4</td>\n      <td>4</td>\n      <td>4</td>\n    </tr>\n    <tr>\n      <th>West Ham</th>\n      <td>4</td>\n      <td>4</td>\n      <td>4</td>\n      <td>4</td>\n      <td>4</td>\n      <td>4</td>\n    </tr>\n  </tbody>\n</table>\n</div>", 
                        "text/plain": "                Neighborhood Latitude  Neighborhood Longitude  Venue  \\\nNeighborhood                                                           \nBeckton                             8                       8      8   \nCanning Town                        4                       4      4   \nCustom House                       23                      23     23   \nEast Ham                           19                      19     19   \nForest Gate                        11                      11     11   \nLittle Ilford                       4                       4      4   \nManor Park                          5                       5      5   \nMaryland                           22                      22     22   \nNorth Woolwich                     18                      18     18   \nPlaistow                            8                       8      8   \nSilvertown                          6                       6      6   \nStratford                          70                      70     70   \nUpton Park                          4                       4      4   \nWest Ham                            4                       4      4   \n\n                Venue Latitude  Venue Longitude  Venue Category  \nNeighborhood                                                     \nBeckton                      8                8               8  \nCanning Town                 4                4               4  \nCustom House                23               23              23  \nEast Ham                    19               19              19  \nForest Gate                 11               11              11  \nLittle Ilford                4                4               4  \nManor Park                   5                5               5  \nMaryland                    22               22              22  \nNorth Woolwich              18               18              18  \nPlaistow                     8                8               8  \nSilvertown                   6                6               6  \nStratford                   70               70              70  \nUpton Park                   4                4               4  \nWest Ham                     4                4               4  "
                    }, 
                    "output_type": "execute_result"
                }
            ], 
            "source": "Newham_venues.groupby('Neighborhood').count()"
        }, 
        {
            "source": "### Let's find out how many unique categories can be curated from all the returned venues", 
            "cell_type": "markdown", 
            "metadata": {}
        }, 
        {
            "execution_count": 58, 
            "cell_type": "code", 
            "metadata": {}, 
            "outputs": [
                {
                    "output_type": "stream", 
                    "name": "stdout", 
                    "text": "There are 94 uniques categories.\n"
                }
            ], 
            "source": "print('There are {} uniques categories.'.format(len(Newham_venues['Venue Category'].unique())))"
        }, 
        {
            "source": "# 3) Analyze Each Neighborhood in Newham borough", 
            "cell_type": "markdown", 
            "metadata": {}
        }, 
        {
            "execution_count": 59, 
            "cell_type": "code", 
            "metadata": {}, 
            "outputs": [
                {
                    "execution_count": 59, 
                    "metadata": {}, 
                    "data": {
                        "text/html": "<div>\n<style scoped>\n    .dataframe tbody tr th:only-of-type {\n        vertical-align: middle;\n    }\n\n    .dataframe tbody tr th {\n        vertical-align: top;\n    }\n\n    .dataframe thead th {\n        text-align: right;\n    }\n</style>\n<table border=\"1\" class=\"dataframe\">\n  <thead>\n    <tr style=\"text-align: right;\">\n      <th></th>\n      <th>Neighborhood</th>\n      <th>Accessories Store</th>\n      <th>American Restaurant</th>\n      <th>Art Gallery</th>\n      <th>Asian Restaurant</th>\n      <th>Bakery</th>\n      <th>Bar</th>\n      <th>Boat or Ferry</th>\n      <th>Bookstore</th>\n      <th>Boutique</th>\n      <th>...</th>\n      <th>Tapas Restaurant</th>\n      <th>Tennis Court</th>\n      <th>Thai Restaurant</th>\n      <th>Theater</th>\n      <th>Toy / Game Store</th>\n      <th>Train Station</th>\n      <th>Tunnel</th>\n      <th>Turkish Restaurant</th>\n      <th>Warehouse Store</th>\n      <th>Wine Bar</th>\n    </tr>\n  </thead>\n  <tbody>\n    <tr>\n      <th>0</th>\n      <td>Beckton</td>\n      <td>0</td>\n      <td>0</td>\n      <td>0</td>\n      <td>0</td>\n      <td>0</td>\n      <td>0</td>\n      <td>0</td>\n      <td>0</td>\n      <td>0</td>\n      <td>...</td>\n      <td>0</td>\n      <td>0</td>\n      <td>0</td>\n      <td>0</td>\n      <td>0</td>\n      <td>0</td>\n      <td>0</td>\n      <td>0</td>\n      <td>0</td>\n      <td>0</td>\n    </tr>\n    <tr>\n      <th>1</th>\n      <td>Beckton</td>\n      <td>0</td>\n      <td>0</td>\n      <td>0</td>\n      <td>0</td>\n      <td>0</td>\n      <td>0</td>\n      <td>0</td>\n      <td>0</td>\n      <td>0</td>\n      <td>...</td>\n      <td>0</td>\n      <td>0</td>\n      <td>0</td>\n      <td>0</td>\n      <td>0</td>\n      <td>0</td>\n      <td>0</td>\n      <td>0</td>\n      <td>0</td>\n      <td>0</td>\n    </tr>\n    <tr>\n      <th>2</th>\n      <td>Beckton</td>\n      <td>0</td>\n      <td>0</td>\n      <td>0</td>\n      <td>0</td>\n      <td>0</td>\n      <td>0</td>\n      <td>0</td>\n      <td>0</td>\n      <td>0</td>\n      <td>...</td>\n      <td>0</td>\n      <td>0</td>\n      <td>0</td>\n      <td>0</td>\n      <td>0</td>\n      <td>0</td>\n      <td>0</td>\n      <td>0</td>\n      <td>0</td>\n      <td>0</td>\n    </tr>\n    <tr>\n      <th>3</th>\n      <td>Beckton</td>\n      <td>0</td>\n      <td>0</td>\n      <td>0</td>\n      <td>0</td>\n      <td>0</td>\n      <td>0</td>\n      <td>0</td>\n      <td>0</td>\n      <td>0</td>\n      <td>...</td>\n      <td>0</td>\n      <td>0</td>\n      <td>0</td>\n      <td>0</td>\n      <td>0</td>\n      <td>0</td>\n      <td>0</td>\n      <td>0</td>\n      <td>0</td>\n      <td>0</td>\n    </tr>\n    <tr>\n      <th>4</th>\n      <td>Beckton</td>\n      <td>0</td>\n      <td>0</td>\n      <td>0</td>\n      <td>0</td>\n      <td>0</td>\n      <td>0</td>\n      <td>0</td>\n      <td>0</td>\n      <td>0</td>\n      <td>...</td>\n      <td>0</td>\n      <td>0</td>\n      <td>0</td>\n      <td>0</td>\n      <td>0</td>\n      <td>0</td>\n      <td>0</td>\n      <td>0</td>\n      <td>0</td>\n      <td>0</td>\n    </tr>\n  </tbody>\n</table>\n<p>5 rows \u00d7 95 columns</p>\n</div>", 
                        "text/plain": "  Neighborhood  Accessories Store  American Restaurant  Art Gallery  \\\n0      Beckton                  0                    0            0   \n1      Beckton                  0                    0            0   \n2      Beckton                  0                    0            0   \n3      Beckton                  0                    0            0   \n4      Beckton                  0                    0            0   \n\n   Asian Restaurant  Bakery  Bar  Boat or Ferry  Bookstore  Boutique  \\\n0                 0       0    0              0          0         0   \n1                 0       0    0              0          0         0   \n2                 0       0    0              0          0         0   \n3                 0       0    0              0          0         0   \n4                 0       0    0              0          0         0   \n\n     ...     Tapas Restaurant  Tennis Court  Thai Restaurant  Theater  \\\n0    ...                    0             0                0        0   \n1    ...                    0             0                0        0   \n2    ...                    0             0                0        0   \n3    ...                    0             0                0        0   \n4    ...                    0             0                0        0   \n\n   Toy / Game Store  Train Station  Tunnel  Turkish Restaurant  \\\n0                 0              0       0                   0   \n1                 0              0       0                   0   \n2                 0              0       0                   0   \n3                 0              0       0                   0   \n4                 0              0       0                   0   \n\n   Warehouse Store  Wine Bar  \n0                0         0  \n1                0         0  \n2                0         0  \n3                0         0  \n4                0         0  \n\n[5 rows x 95 columns]"
                    }, 
                    "output_type": "execute_result"
                }
            ], 
            "source": "# one hot encoding\nNewham_onehot = pd.get_dummies(Newham_venues[['Venue Category']], prefix=\"\", prefix_sep=\"\")\n\n# add neighborhood column back to dataframe\nNewham_onehot['Neighborhood'] = Newham_venues['Neighborhood'] \n\n# move neighborhood column to the first column\nfixed_columns = [Newham_onehot.columns[-1]] + list(Newham_onehot.columns[:-1])\nNewham_onehot = Newham_onehot[fixed_columns]\n\nNewham_onehot.head()"
        }, 
        {
            "execution_count": 60, 
            "cell_type": "code", 
            "metadata": {}, 
            "outputs": [
                {
                    "execution_count": 60, 
                    "metadata": {}, 
                    "data": {
                        "text/plain": "(206, 95)"
                    }, 
                    "output_type": "execute_result"
                }
            ], 
            "source": "Newham_onehot.shape"
        }, 
        {
            "source": "### Let's group rows by neighborhood and by taking the mean of the frequency of occurrence of each category", 
            "cell_type": "markdown", 
            "metadata": {}
        }, 
        {
            "execution_count": 61, 
            "cell_type": "code", 
            "metadata": {}, 
            "outputs": [
                {
                    "execution_count": 61, 
                    "metadata": {}, 
                    "data": {
                        "text/html": "<div>\n<style scoped>\n    .dataframe tbody tr th:only-of-type {\n        vertical-align: middle;\n    }\n\n    .dataframe tbody tr th {\n        vertical-align: top;\n    }\n\n    .dataframe thead th {\n        text-align: right;\n    }\n</style>\n<table border=\"1\" class=\"dataframe\">\n  <thead>\n    <tr style=\"text-align: right;\">\n      <th></th>\n      <th>Neighborhood</th>\n      <th>Accessories Store</th>\n      <th>American Restaurant</th>\n      <th>Art Gallery</th>\n      <th>Asian Restaurant</th>\n      <th>Bakery</th>\n      <th>Bar</th>\n      <th>Boat or Ferry</th>\n      <th>Bookstore</th>\n      <th>Boutique</th>\n      <th>...</th>\n      <th>Tapas Restaurant</th>\n      <th>Tennis Court</th>\n      <th>Thai Restaurant</th>\n      <th>Theater</th>\n      <th>Toy / Game Store</th>\n      <th>Train Station</th>\n      <th>Tunnel</th>\n      <th>Turkish Restaurant</th>\n      <th>Warehouse Store</th>\n      <th>Wine Bar</th>\n    </tr>\n  </thead>\n  <tbody>\n    <tr>\n      <th>0</th>\n      <td>Beckton</td>\n      <td>0.0</td>\n      <td>0.000000</td>\n      <td>0.0</td>\n      <td>0.0</td>\n      <td>0.000000</td>\n      <td>0.0</td>\n      <td>0.0</td>\n      <td>0.000000</td>\n      <td>0.0</td>\n      <td>...</td>\n      <td>0.000000</td>\n      <td>0.00</td>\n      <td>0.0</td>\n      <td>0.0</td>\n      <td>0.0</td>\n      <td>0.000000</td>\n      <td>0.0</td>\n      <td>0.000000</td>\n      <td>0.000000</td>\n      <td>0.000000</td>\n    </tr>\n    <tr>\n      <th>1</th>\n      <td>Canning Town</td>\n      <td>0.0</td>\n      <td>0.000000</td>\n      <td>0.0</td>\n      <td>0.0</td>\n      <td>0.000000</td>\n      <td>0.0</td>\n      <td>0.0</td>\n      <td>0.000000</td>\n      <td>0.0</td>\n      <td>...</td>\n      <td>0.000000</td>\n      <td>0.25</td>\n      <td>0.0</td>\n      <td>0.0</td>\n      <td>0.0</td>\n      <td>0.000000</td>\n      <td>0.0</td>\n      <td>0.000000</td>\n      <td>0.000000</td>\n      <td>0.000000</td>\n    </tr>\n    <tr>\n      <th>2</th>\n      <td>Custom House</td>\n      <td>0.0</td>\n      <td>0.043478</td>\n      <td>0.0</td>\n      <td>0.0</td>\n      <td>0.043478</td>\n      <td>0.0</td>\n      <td>0.0</td>\n      <td>0.000000</td>\n      <td>0.0</td>\n      <td>...</td>\n      <td>0.043478</td>\n      <td>0.00</td>\n      <td>0.0</td>\n      <td>0.0</td>\n      <td>0.0</td>\n      <td>0.000000</td>\n      <td>0.0</td>\n      <td>0.000000</td>\n      <td>0.000000</td>\n      <td>0.043478</td>\n    </tr>\n    <tr>\n      <th>3</th>\n      <td>East Ham</td>\n      <td>0.0</td>\n      <td>0.000000</td>\n      <td>0.0</td>\n      <td>0.0</td>\n      <td>0.052632</td>\n      <td>0.0</td>\n      <td>0.0</td>\n      <td>0.052632</td>\n      <td>0.0</td>\n      <td>...</td>\n      <td>0.000000</td>\n      <td>0.00</td>\n      <td>0.0</td>\n      <td>0.0</td>\n      <td>0.0</td>\n      <td>0.000000</td>\n      <td>0.0</td>\n      <td>0.052632</td>\n      <td>0.052632</td>\n      <td>0.000000</td>\n    </tr>\n    <tr>\n      <th>4</th>\n      <td>Forest Gate</td>\n      <td>0.0</td>\n      <td>0.000000</td>\n      <td>0.0</td>\n      <td>0.0</td>\n      <td>0.090909</td>\n      <td>0.0</td>\n      <td>0.0</td>\n      <td>0.000000</td>\n      <td>0.0</td>\n      <td>...</td>\n      <td>0.000000</td>\n      <td>0.00</td>\n      <td>0.0</td>\n      <td>0.0</td>\n      <td>0.0</td>\n      <td>0.090909</td>\n      <td>0.0</td>\n      <td>0.000000</td>\n      <td>0.000000</td>\n      <td>0.000000</td>\n    </tr>\n  </tbody>\n</table>\n<p>5 rows \u00d7 95 columns</p>\n</div>", 
                        "text/plain": "   Neighborhood  Accessories Store  American Restaurant  Art Gallery  \\\n0       Beckton                0.0             0.000000          0.0   \n1  Canning Town                0.0             0.000000          0.0   \n2  Custom House                0.0             0.043478          0.0   \n3      East Ham                0.0             0.000000          0.0   \n4   Forest Gate                0.0             0.000000          0.0   \n\n   Asian Restaurant    Bakery  Bar  Boat or Ferry  Bookstore  Boutique  \\\n0               0.0  0.000000  0.0            0.0   0.000000       0.0   \n1               0.0  0.000000  0.0            0.0   0.000000       0.0   \n2               0.0  0.043478  0.0            0.0   0.000000       0.0   \n3               0.0  0.052632  0.0            0.0   0.052632       0.0   \n4               0.0  0.090909  0.0            0.0   0.000000       0.0   \n\n     ...     Tapas Restaurant  Tennis Court  Thai Restaurant  Theater  \\\n0    ...             0.000000          0.00              0.0      0.0   \n1    ...             0.000000          0.25              0.0      0.0   \n2    ...             0.043478          0.00              0.0      0.0   \n3    ...             0.000000          0.00              0.0      0.0   \n4    ...             0.000000          0.00              0.0      0.0   \n\n   Toy / Game Store  Train Station  Tunnel  Turkish Restaurant  \\\n0               0.0       0.000000     0.0            0.000000   \n1               0.0       0.000000     0.0            0.000000   \n2               0.0       0.000000     0.0            0.000000   \n3               0.0       0.000000     0.0            0.052632   \n4               0.0       0.090909     0.0            0.000000   \n\n   Warehouse Store  Wine Bar  \n0         0.000000  0.000000  \n1         0.000000  0.000000  \n2         0.000000  0.043478  \n3         0.052632  0.000000  \n4         0.000000  0.000000  \n\n[5 rows x 95 columns]"
                    }, 
                    "output_type": "execute_result"
                }
            ], 
            "source": "Newham_grouped = Newham_onehot.groupby('Neighborhood').mean().reset_index()\nNewham_grouped.head()"
        }, 
        {
            "execution_count": 62, 
            "cell_type": "code", 
            "metadata": {}, 
            "outputs": [
                {
                    "execution_count": 62, 
                    "metadata": {}, 
                    "data": {
                        "text/plain": "Index(['Neighborhood', 'Accessories Store', 'American Restaurant',\n       'Art Gallery', 'Asian Restaurant', 'Bakery', 'Bar', 'Boat or Ferry',\n       'Bookstore', 'Boutique', 'Brewery', 'Bridal Shop', 'Bridge',\n       'Bubble Tea Shop', 'Burger Joint', 'Bus Stop', 'Caf\u00e9',\n       'Chinese Restaurant', 'Clothing Store', 'Coffee Shop',\n       'Convenience Store', 'Cosmetics Shop', 'Creperie', 'Dance Studio',\n       'Department Store', 'Dessert Shop', 'Discount Store', 'Doctor's Office',\n       'Doner Restaurant', 'Eastern European Restaurant', 'Electronics Store',\n       'English Restaurant', 'Fast Food Restaurant', 'Fish & Chips Shop',\n       'Food Court', 'Fried Chicken Joint', 'Furniture / Home Store',\n       'Gas Station', 'General Entertainment', 'Gift Shop', 'Go Kart Track',\n       'Greek Restaurant', 'Grocery Store', 'Gym / Fitness Center', 'Gym Pool',\n       'Health Food Store', 'History Museum', 'Home Service', 'Hotel',\n       'Hotel Bar', 'Ice Cream Shop', 'Indian Restaurant',\n       'Indie Movie Theater', 'Indie Theater', 'Italian Restaurant',\n       'Japanese Restaurant', 'Jewelry Store', 'Juice Bar',\n       'Latin American Restaurant', 'Light Rail Station', 'Lingerie Store',\n       'Liquor Store', 'Market', 'Mediterranean Restaurant', 'Men's Store',\n       'Mexican Restaurant', 'Movie Theater', 'Moving Target',\n       'Outdoor Sculpture', 'Paintball Field', 'Park', 'Pharmacy', 'Pier',\n       'Pizza Place', 'Plaza', 'Portuguese Restaurant', 'Pub', 'Restaurant',\n       'Sandwich Place', 'Scenic Lookout', 'Sculpture Garden', 'Shopping Mall',\n       'Shopping Plaza', 'Supermarket', 'Sushi Restaurant', 'Tapas Restaurant',\n       'Tennis Court', 'Thai Restaurant', 'Theater', 'Toy / Game Store',\n       'Train Station', 'Tunnel', 'Turkish Restaurant', 'Warehouse Store',\n       'Wine Bar'],\n      dtype='object')"
                    }, 
                    "output_type": "execute_result"
                }
            ], 
            "source": "Newham_grouped.columns"
        }, 
        {
            "execution_count": 63, 
            "cell_type": "code", 
            "metadata": {}, 
            "outputs": [
                {
                    "execution_count": 63, 
                    "metadata": {}, 
                    "data": {
                        "text/plain": "(14, 95)"
                    }, 
                    "output_type": "execute_result"
                }
            ], 
            "source": "Newham_grouped.shape"
        }, 
        {
            "source": "### Let's print each neighborhood along with the top 5 most common venues", 
            "cell_type": "markdown", 
            "metadata": {}
        }, 
        {
            "execution_count": 64, 
            "cell_type": "code", 
            "metadata": {}, 
            "outputs": [
                {
                    "output_type": "stream", 
                    "name": "stdout", 
                    "text": "----Beckton----\n                    venue  freq\n0                   Hotel  0.12\n1           Grocery Store  0.12\n2                     Pub  0.12\n3          Clothing Store  0.12\n4  Furniture / Home Store  0.12\n\n\n----Canning Town----\n               venue  freq\n0               Park  0.25\n1        Gas Station  0.25\n2  Convenience Store  0.25\n3       Tennis Court  0.25\n4    Paintball Field  0.00\n\n\n----Custom House----\n                venue  freq\n0               Hotel  0.17\n1  Chinese Restaurant  0.09\n2                 Pub  0.09\n3    Tapas Restaurant  0.04\n4      Scenic Lookout  0.04\n\n\n----East Ham----\n                  venue  freq\n0  Fast Food Restaurant  0.11\n1        Clothing Store  0.11\n2              Gym Pool  0.05\n3     Electronics Store  0.05\n4       Doctor's Office  0.05\n\n\n----Forest Gate----\n           venue  freq\n0  Grocery Store  0.18\n1         Market  0.18\n2           Caf\u00e9  0.09\n3  Moving Target  0.09\n4         Bakery  0.09\n\n\n----Little Ilford----\n                 venue  freq\n0       Ice Cream Shop  0.25\n1    Indian Restaurant  0.25\n2        Grocery Store  0.25\n3  Fried Chicken Joint  0.25\n4         Liquor Store  0.00\n\n\n----Manor Park----\n                  venue  freq\n0          Home Service   0.2\n1    Turkish Restaurant   0.2\n2     Indian Restaurant   0.2\n3  Gym / Fitness Center   0.2\n4            Restaurant   0.2\n\n\n----Maryland----\n           venue  freq\n0       Bus Stop  0.14\n1            Pub  0.14\n2          Hotel  0.09\n3  Grocery Store  0.09\n4   Liquor Store  0.05\n\n\n----North Woolwich----\n            venue  freq\n0            Pier  0.17\n1  History Museum  0.11\n2           Hotel  0.06\n3           Plaza  0.06\n4  Clothing Store  0.06\n\n\n----Plaistow----\n                  venue  freq\n0                  Park  0.25\n1                  Caf\u00e9  0.25\n2  Gym / Fitness Center  0.12\n3              Bus Stop  0.12\n4         Grocery Store  0.12\n\n\n----Silvertown----\n                  venue  freq\n0                  Park  0.17\n1       Paintball Field  0.17\n2  Gym / Fitness Center  0.17\n3               Theater  0.17\n4         Go Kart Track  0.17\n\n\n----Stratford----\n                  venue  freq\n0                   Pub  0.07\n1        Sandwich Place  0.04\n2                 Hotel  0.03\n3  Fast Food Restaurant  0.03\n4        Cosmetics Shop  0.03\n\n\n----Upton Park----\n               venue  freq\n0           Bus Stop  0.25\n1          Bookstore  0.25\n2           Boutique  0.25\n3  Convenience Store  0.25\n4  Accessories Store  0.00\n\n\n----West Ham----\n               venue  freq\n0           Bus Stop  0.25\n1          Bookstore  0.25\n2           Boutique  0.25\n3  Convenience Store  0.25\n4  Accessories Store  0.00\n\n\n"
                }
            ], 
            "source": "num_top_venues = 5\nfor hood in Newham_grouped['Neighborhood']:\n    print(\"----\"+hood+\"----\")\n    temp = Newham_grouped[Newham_grouped['Neighborhood'] == hood].T.reset_index()\n    temp.columns = ['venue','freq']\n    temp = temp.iloc[1:]\n    temp['freq'] = temp['freq'].astype(float)\n    temp = temp.round({'freq': 2})\n    print(temp.sort_values('freq', ascending=False).reset_index(drop=True).head(num_top_venues))\n    print('\\n')"
        }, 
        {
            "source": "### Let's put that into a pandas dataframe\n### First, let's write a function to sort the venues in descending order.", 
            "cell_type": "markdown", 
            "metadata": {}
        }, 
        {
            "execution_count": 65, 
            "cell_type": "code", 
            "metadata": {}, 
            "outputs": [], 
            "source": "def return_most_common_venues(row, num_top_venues):\n    row_categories = row.iloc[1:]\n    row_categories_sorted = row_categories.sort_values(ascending=False)\n    \n    return row_categories_sorted.index.values[0:num_top_venues]"
        }, 
        {
            "source": "### Now let's create the new dataframe and display the top 10 venues for each neighborhood.", 
            "cell_type": "markdown", 
            "metadata": {}
        }, 
        {
            "execution_count": 66, 
            "cell_type": "code", 
            "metadata": {}, 
            "outputs": [
                {
                    "execution_count": 66, 
                    "metadata": {}, 
                    "data": {
                        "text/html": "<div>\n<style scoped>\n    .dataframe tbody tr th:only-of-type {\n        vertical-align: middle;\n    }\n\n    .dataframe tbody tr th {\n        vertical-align: top;\n    }\n\n    .dataframe thead th {\n        text-align: right;\n    }\n</style>\n<table border=\"1\" class=\"dataframe\">\n  <thead>\n    <tr style=\"text-align: right;\">\n      <th></th>\n      <th>Neighborhood</th>\n      <th>1st Most Common Venue</th>\n      <th>2nd Most Common Venue</th>\n      <th>3rd Most Common Venue</th>\n      <th>4th Most Common Venue</th>\n      <th>5th Most Common Venue</th>\n      <th>6th Most Common Venue</th>\n      <th>7th Most Common Venue</th>\n      <th>8th Most Common Venue</th>\n      <th>9th Most Common Venue</th>\n      <th>10th Most Common Venue</th>\n    </tr>\n  </thead>\n  <tbody>\n    <tr>\n      <th>0</th>\n      <td>Beckton</td>\n      <td>Light Rail Station</td>\n      <td>Discount Store</td>\n      <td>Hotel</td>\n      <td>Grocery Store</td>\n      <td>Clothing Store</td>\n      <td>Furniture / Home Store</td>\n      <td>Pub</td>\n      <td>Shopping Plaza</td>\n      <td>Wine Bar</td>\n      <td>Doctor's Office</td>\n    </tr>\n    <tr>\n      <th>1</th>\n      <td>Canning Town</td>\n      <td>Park</td>\n      <td>Convenience Store</td>\n      <td>Tennis Court</td>\n      <td>Gas Station</td>\n      <td>Fish &amp; Chips Shop</td>\n      <td>Dessert Shop</td>\n      <td>Discount Store</td>\n      <td>Doctor's Office</td>\n      <td>Doner Restaurant</td>\n      <td>Eastern European Restaurant</td>\n    </tr>\n    <tr>\n      <th>2</th>\n      <td>Custom House</td>\n      <td>Hotel</td>\n      <td>Chinese Restaurant</td>\n      <td>Pub</td>\n      <td>Wine Bar</td>\n      <td>Scenic Lookout</td>\n      <td>Hotel Bar</td>\n      <td>Italian Restaurant</td>\n      <td>Japanese Restaurant</td>\n      <td>English Restaurant</td>\n      <td>Light Rail Station</td>\n    </tr>\n    <tr>\n      <th>3</th>\n      <td>East Ham</td>\n      <td>Fast Food Restaurant</td>\n      <td>Clothing Store</td>\n      <td>Coffee Shop</td>\n      <td>Shopping Mall</td>\n      <td>Warehouse Store</td>\n      <td>Jewelry Store</td>\n      <td>Electronics Store</td>\n      <td>Doctor's Office</td>\n      <td>Grocery Store</td>\n      <td>Park</td>\n    </tr>\n    <tr>\n      <th>4</th>\n      <td>Forest Gate</td>\n      <td>Grocery Store</td>\n      <td>Market</td>\n      <td>Train Station</td>\n      <td>Bakery</td>\n      <td>Italian Restaurant</td>\n      <td>Pub</td>\n      <td>Moving Target</td>\n      <td>Caf\u00e9</td>\n      <td>Fast Food Restaurant</td>\n      <td>Wine Bar</td>\n    </tr>\n  </tbody>\n</table>\n</div>", 
                        "text/plain": "   Neighborhood 1st Most Common Venue 2nd Most Common Venue  \\\n0       Beckton    Light Rail Station        Discount Store   \n1  Canning Town                  Park     Convenience Store   \n2  Custom House                 Hotel    Chinese Restaurant   \n3      East Ham  Fast Food Restaurant        Clothing Store   \n4   Forest Gate         Grocery Store                Market   \n\n  3rd Most Common Venue 4th Most Common Venue 5th Most Common Venue  \\\n0                 Hotel         Grocery Store        Clothing Store   \n1          Tennis Court           Gas Station     Fish & Chips Shop   \n2                   Pub              Wine Bar        Scenic Lookout   \n3           Coffee Shop         Shopping Mall       Warehouse Store   \n4         Train Station                Bakery    Italian Restaurant   \n\n    6th Most Common Venue 7th Most Common Venue 8th Most Common Venue  \\\n0  Furniture / Home Store                   Pub        Shopping Plaza   \n1            Dessert Shop        Discount Store       Doctor's Office   \n2               Hotel Bar    Italian Restaurant   Japanese Restaurant   \n3           Jewelry Store     Electronics Store       Doctor's Office   \n4                     Pub         Moving Target                  Caf\u00e9   \n\n  9th Most Common Venue       10th Most Common Venue  \n0              Wine Bar              Doctor's Office  \n1      Doner Restaurant  Eastern European Restaurant  \n2    English Restaurant           Light Rail Station  \n3         Grocery Store                         Park  \n4  Fast Food Restaurant                     Wine Bar  "
                    }, 
                    "output_type": "execute_result"
                }
            ], 
            "source": "num_top_venues = 10\nindicators = ['st', 'nd', 'rd']\n\n# create columns according to number of top venues\ncolumns = ['Neighborhood']\nfor ind in np.arange(num_top_venues):\n    try:\n        columns.append('{}{} Most Common Venue'.format(ind+1, indicators[ind]))\n    except:\n        columns.append('{}th Most Common Venue'.format(ind+1))\n        \n# create a new dataframe\nneighborhoods_venues_sorted = pd.DataFrame(columns=columns)\nneighborhoods_venues_sorted['Neighborhood'] = Newham_grouped['Neighborhood']\n\nfor ind in np.arange(Newham_grouped.shape[0]):\n    neighborhoods_venues_sorted.iloc[ind, 1:] = return_most_common_venues(Newham_grouped.iloc[ind, :], num_top_venues)\n    \nneighborhoods_venues_sorted.head()    "
        }, 
        {
            "source": "# 4) Cluster the Neighborhoods\u00b6\n\n# Run K-means algorithm to cluster the neighborhood into 5 clusters.", 
            "cell_type": "markdown", 
            "metadata": {}
        }, 
        {
            "execution_count": 67, 
            "cell_type": "code", 
            "metadata": {}, 
            "outputs": [
                {
                    "execution_count": 67, 
                    "metadata": {}, 
                    "data": {
                        "text/html": "<div>\n<style scoped>\n    .dataframe tbody tr th:only-of-type {\n        vertical-align: middle;\n    }\n\n    .dataframe tbody tr th {\n        vertical-align: top;\n    }\n\n    .dataframe thead th {\n        text-align: right;\n    }\n</style>\n<table border=\"1\" class=\"dataframe\">\n  <thead>\n    <tr style=\"text-align: right;\">\n      <th></th>\n      <th>Neighborhood</th>\n      <th>Accessories Store</th>\n      <th>American Restaurant</th>\n      <th>Art Gallery</th>\n      <th>Asian Restaurant</th>\n      <th>Bakery</th>\n      <th>Bar</th>\n      <th>Boat or Ferry</th>\n      <th>Bookstore</th>\n      <th>Boutique</th>\n      <th>...</th>\n      <th>Tapas Restaurant</th>\n      <th>Tennis Court</th>\n      <th>Thai Restaurant</th>\n      <th>Theater</th>\n      <th>Toy / Game Store</th>\n      <th>Train Station</th>\n      <th>Tunnel</th>\n      <th>Turkish Restaurant</th>\n      <th>Warehouse Store</th>\n      <th>Wine Bar</th>\n    </tr>\n  </thead>\n  <tbody>\n    <tr>\n      <th>0</th>\n      <td>Beckton</td>\n      <td>0.0</td>\n      <td>0.000000</td>\n      <td>0.0</td>\n      <td>0.0</td>\n      <td>0.000000</td>\n      <td>0.0</td>\n      <td>0.0</td>\n      <td>0.000000</td>\n      <td>0.0</td>\n      <td>...</td>\n      <td>0.000000</td>\n      <td>0.00</td>\n      <td>0.0</td>\n      <td>0.0</td>\n      <td>0.0</td>\n      <td>0.000000</td>\n      <td>0.0</td>\n      <td>0.000000</td>\n      <td>0.000000</td>\n      <td>0.000000</td>\n    </tr>\n    <tr>\n      <th>1</th>\n      <td>Canning Town</td>\n      <td>0.0</td>\n      <td>0.000000</td>\n      <td>0.0</td>\n      <td>0.0</td>\n      <td>0.000000</td>\n      <td>0.0</td>\n      <td>0.0</td>\n      <td>0.000000</td>\n      <td>0.0</td>\n      <td>...</td>\n      <td>0.000000</td>\n      <td>0.25</td>\n      <td>0.0</td>\n      <td>0.0</td>\n      <td>0.0</td>\n      <td>0.000000</td>\n      <td>0.0</td>\n      <td>0.000000</td>\n      <td>0.000000</td>\n      <td>0.000000</td>\n    </tr>\n    <tr>\n      <th>2</th>\n      <td>Custom House</td>\n      <td>0.0</td>\n      <td>0.043478</td>\n      <td>0.0</td>\n      <td>0.0</td>\n      <td>0.043478</td>\n      <td>0.0</td>\n      <td>0.0</td>\n      <td>0.000000</td>\n      <td>0.0</td>\n      <td>...</td>\n      <td>0.043478</td>\n      <td>0.00</td>\n      <td>0.0</td>\n      <td>0.0</td>\n      <td>0.0</td>\n      <td>0.000000</td>\n      <td>0.0</td>\n      <td>0.000000</td>\n      <td>0.000000</td>\n      <td>0.043478</td>\n    </tr>\n    <tr>\n      <th>3</th>\n      <td>East Ham</td>\n      <td>0.0</td>\n      <td>0.000000</td>\n      <td>0.0</td>\n      <td>0.0</td>\n      <td>0.052632</td>\n      <td>0.0</td>\n      <td>0.0</td>\n      <td>0.052632</td>\n      <td>0.0</td>\n      <td>...</td>\n      <td>0.000000</td>\n      <td>0.00</td>\n      <td>0.0</td>\n      <td>0.0</td>\n      <td>0.0</td>\n      <td>0.000000</td>\n      <td>0.0</td>\n      <td>0.052632</td>\n      <td>0.052632</td>\n      <td>0.000000</td>\n    </tr>\n    <tr>\n      <th>4</th>\n      <td>Forest Gate</td>\n      <td>0.0</td>\n      <td>0.000000</td>\n      <td>0.0</td>\n      <td>0.0</td>\n      <td>0.090909</td>\n      <td>0.0</td>\n      <td>0.0</td>\n      <td>0.000000</td>\n      <td>0.0</td>\n      <td>...</td>\n      <td>0.000000</td>\n      <td>0.00</td>\n      <td>0.0</td>\n      <td>0.0</td>\n      <td>0.0</td>\n      <td>0.090909</td>\n      <td>0.0</td>\n      <td>0.000000</td>\n      <td>0.000000</td>\n      <td>0.000000</td>\n    </tr>\n  </tbody>\n</table>\n<p>5 rows \u00d7 95 columns</p>\n</div>", 
                        "text/plain": "   Neighborhood  Accessories Store  American Restaurant  Art Gallery  \\\n0       Beckton                0.0             0.000000          0.0   \n1  Canning Town                0.0             0.000000          0.0   \n2  Custom House                0.0             0.043478          0.0   \n3      East Ham                0.0             0.000000          0.0   \n4   Forest Gate                0.0             0.000000          0.0   \n\n   Asian Restaurant    Bakery  Bar  Boat or Ferry  Bookstore  Boutique  \\\n0               0.0  0.000000  0.0            0.0   0.000000       0.0   \n1               0.0  0.000000  0.0            0.0   0.000000       0.0   \n2               0.0  0.043478  0.0            0.0   0.000000       0.0   \n3               0.0  0.052632  0.0            0.0   0.052632       0.0   \n4               0.0  0.090909  0.0            0.0   0.000000       0.0   \n\n     ...     Tapas Restaurant  Tennis Court  Thai Restaurant  Theater  \\\n0    ...             0.000000          0.00              0.0      0.0   \n1    ...             0.000000          0.25              0.0      0.0   \n2    ...             0.043478          0.00              0.0      0.0   \n3    ...             0.000000          0.00              0.0      0.0   \n4    ...             0.000000          0.00              0.0      0.0   \n\n   Toy / Game Store  Train Station  Tunnel  Turkish Restaurant  \\\n0               0.0       0.000000     0.0            0.000000   \n1               0.0       0.000000     0.0            0.000000   \n2               0.0       0.000000     0.0            0.000000   \n3               0.0       0.000000     0.0            0.052632   \n4               0.0       0.090909     0.0            0.000000   \n\n   Warehouse Store  Wine Bar  \n0         0.000000  0.000000  \n1         0.000000  0.000000  \n2         0.000000  0.043478  \n3         0.052632  0.000000  \n4         0.000000  0.000000  \n\n[5 rows x 95 columns]"
                    }, 
                    "output_type": "execute_result"
                }
            ], 
            "source": "Newham_grouped.head()"
        }, 
        {
            "execution_count": 68, 
            "cell_type": "code", 
            "metadata": {}, 
            "outputs": [
                {
                    "execution_count": 68, 
                    "metadata": {}, 
                    "data": {
                        "text/plain": "array([1, 2, 1, 1, 1, 3, 1, 1, 1, 0], dtype=int32)"
                    }, 
                    "output_type": "execute_result"
                }
            ], 
            "source": "# set number of clusters\nkclusters = 5\nNewham_grouped_clustering = Newham_grouped.drop('Neighborhood', 1)\n\n# run k-means clustering\nkmeans = KMeans(n_clusters=kclusters, random_state=0).fit(Newham_grouped_clustering)\n\n# check cluster labels generated for each row in the dataframe\nkmeans.labels_[0:10]"
        }, 
        {
            "execution_count": 69, 
            "cell_type": "code", 
            "metadata": {}, 
            "outputs": [
                {
                    "execution_count": 69, 
                    "metadata": {}, 
                    "data": {
                        "text/plain": "KMeans(algorithm='auto', copy_x=True, init='k-means++', max_iter=300,\n    n_clusters=5, n_init=10, n_jobs=1, precompute_distances='auto',\n    random_state=0, tol=0.0001, verbose=0)"
                    }, 
                    "output_type": "execute_result"
                }
            ], 
            "source": "kmeans"
        }, 
        {
            "source": "### Let's create a new dataframe that includes the cluster as well as the top 10 venues for each neighborhood.", 
            "cell_type": "markdown", 
            "metadata": {}
        }, 
        {
            "execution_count": 70, 
            "cell_type": "code", 
            "metadata": {}, 
            "outputs": [
                {
                    "execution_count": 70, 
                    "metadata": {}, 
                    "data": {
                        "text/html": "<div>\n<style scoped>\n    .dataframe tbody tr th:only-of-type {\n        vertical-align: middle;\n    }\n\n    .dataframe tbody tr th {\n        vertical-align: top;\n    }\n\n    .dataframe thead th {\n        text-align: right;\n    }\n</style>\n<table border=\"1\" class=\"dataframe\">\n  <thead>\n    <tr style=\"text-align: right;\">\n      <th></th>\n      <th>Borough</th>\n      <th>Neighborhood</th>\n      <th>Latitude</th>\n      <th>Longitude</th>\n      <th>Cluster Labels</th>\n      <th>1st Most Common Venue</th>\n      <th>2nd Most Common Venue</th>\n      <th>3rd Most Common Venue</th>\n      <th>4th Most Common Venue</th>\n      <th>5th Most Common Venue</th>\n      <th>6th Most Common Venue</th>\n      <th>7th Most Common Venue</th>\n      <th>8th Most Common Venue</th>\n      <th>9th Most Common Venue</th>\n      <th>10th Most Common Venue</th>\n    </tr>\n  </thead>\n  <tbody>\n    <tr>\n      <th>0</th>\n      <td>Newham</td>\n      <td>Beckton</td>\n      <td>51.514642</td>\n      <td>0.067375</td>\n      <td>1</td>\n      <td>Light Rail Station</td>\n      <td>Discount Store</td>\n      <td>Hotel</td>\n      <td>Grocery Store</td>\n      <td>Clothing Store</td>\n      <td>Furniture / Home Store</td>\n      <td>Pub</td>\n      <td>Shopping Plaza</td>\n      <td>Wine Bar</td>\n      <td>Doctor's Office</td>\n    </tr>\n    <tr>\n      <th>1</th>\n      <td>Newham</td>\n      <td>Canning Town</td>\n      <td>51.515396</td>\n      <td>0.024169</td>\n      <td>2</td>\n      <td>Park</td>\n      <td>Convenience Store</td>\n      <td>Tennis Court</td>\n      <td>Gas Station</td>\n      <td>Fish &amp; Chips Shop</td>\n      <td>Dessert Shop</td>\n      <td>Discount Store</td>\n      <td>Doctor's Office</td>\n      <td>Doner Restaurant</td>\n      <td>Eastern European Restaurant</td>\n    </tr>\n    <tr>\n      <th>2</th>\n      <td>Newham</td>\n      <td>Custom House</td>\n      <td>51.508133</td>\n      <td>0.028171</td>\n      <td>1</td>\n      <td>Hotel</td>\n      <td>Chinese Restaurant</td>\n      <td>Pub</td>\n      <td>Wine Bar</td>\n      <td>Scenic Lookout</td>\n      <td>Hotel Bar</td>\n      <td>Italian Restaurant</td>\n      <td>Japanese Restaurant</td>\n      <td>English Restaurant</td>\n      <td>Light Rail Station</td>\n    </tr>\n    <tr>\n      <th>3</th>\n      <td>Newham</td>\n      <td>East Ham</td>\n      <td>51.532867</td>\n      <td>0.053782</td>\n      <td>1</td>\n      <td>Fast Food Restaurant</td>\n      <td>Clothing Store</td>\n      <td>Coffee Shop</td>\n      <td>Shopping Mall</td>\n      <td>Warehouse Store</td>\n      <td>Jewelry Store</td>\n      <td>Electronics Store</td>\n      <td>Doctor's Office</td>\n      <td>Grocery Store</td>\n      <td>Park</td>\n    </tr>\n    <tr>\n      <th>4</th>\n      <td>Newham</td>\n      <td>Forest Gate</td>\n      <td>51.551339</td>\n      <td>0.025765</td>\n      <td>1</td>\n      <td>Grocery Store</td>\n      <td>Market</td>\n      <td>Train Station</td>\n      <td>Bakery</td>\n      <td>Italian Restaurant</td>\n      <td>Pub</td>\n      <td>Moving Target</td>\n      <td>Caf\u00e9</td>\n      <td>Fast Food Restaurant</td>\n      <td>Wine Bar</td>\n    </tr>\n  </tbody>\n</table>\n</div>", 
                        "text/plain": "  Borough  Neighborhood   Latitude  Longitude  Cluster Labels  \\\n0  Newham       Beckton  51.514642   0.067375               1   \n1  Newham  Canning Town  51.515396   0.024169               2   \n2  Newham  Custom House  51.508133   0.028171               1   \n3  Newham      East Ham  51.532867   0.053782               1   \n4  Newham   Forest Gate  51.551339   0.025765               1   \n\n  1st Most Common Venue 2nd Most Common Venue 3rd Most Common Venue  \\\n0    Light Rail Station        Discount Store                 Hotel   \n1                  Park     Convenience Store          Tennis Court   \n2                 Hotel    Chinese Restaurant                   Pub   \n3  Fast Food Restaurant        Clothing Store           Coffee Shop   \n4         Grocery Store                Market         Train Station   \n\n  4th Most Common Venue 5th Most Common Venue   6th Most Common Venue  \\\n0         Grocery Store        Clothing Store  Furniture / Home Store   \n1           Gas Station     Fish & Chips Shop            Dessert Shop   \n2              Wine Bar        Scenic Lookout               Hotel Bar   \n3         Shopping Mall       Warehouse Store           Jewelry Store   \n4                Bakery    Italian Restaurant                     Pub   \n\n  7th Most Common Venue 8th Most Common Venue 9th Most Common Venue  \\\n0                   Pub        Shopping Plaza              Wine Bar   \n1        Discount Store       Doctor's Office      Doner Restaurant   \n2    Italian Restaurant   Japanese Restaurant    English Restaurant   \n3     Electronics Store       Doctor's Office         Grocery Store   \n4         Moving Target                  Caf\u00e9  Fast Food Restaurant   \n\n        10th Most Common Venue  \n0              Doctor's Office  \n1  Eastern European Restaurant  \n2           Light Rail Station  \n3                         Park  \n4                     Wine Bar  "
                    }, 
                    "output_type": "execute_result"
                }
            ], 
            "source": "Newham_merged = Newham_borough\n# add clustering labels\nNewham_merged['Cluster Labels'] = kmeans.labels_\n\n# merge Neighborhoods dataframe with Newham borough dataframe to add latitude/longitude for each neighborhood\nNewham_merged = Newham_merged.join(neighborhoods_venues_sorted.set_index('Neighborhood'), on='Neighborhood')\n\nNewham_merged.head() # check the last columns!"
        }, 
        {
            "source": "### Let's Visualize the Cluster", 
            "cell_type": "markdown", 
            "metadata": {}
        }, 
        {
            "execution_count": 71, 
            "cell_type": "code", 
            "metadata": {}, 
            "outputs": [
                {
                    "execution_count": 71, 
                    "metadata": {}, 
                    "data": {
                        "text/html": "<div style=\"width:100%;\"><div style=\"position:relative;width:100%;height:0;padding-bottom:60%;\"><iframe src=\"data:text/html;charset=utf-8;base64,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\" style=\"position:absolute;width:100%;height:100%;left:0;top:0;border:none !important;\" allowfullscreen webkitallowfullscreen mozallowfullscreen></iframe></div></div>", 
                        "text/plain": "<folium.folium.Map at 0x7fb84f400860>"
                    }, 
                    "output_type": "execute_result"
                }
            ], 
            "source": "# create map\nmap_clusters = folium.Map(location=[latitude, longitude], zoom_start=11)\n\n# set color scheme for the clusters\nx = np.arange(kclusters)\ny = [i+x+(i*x)**2 for i in range(kclusters)]\ncolors_array = cm.rainbow(np.linspace(0, 1, len(y)))\nrainbow = [colors.rgb2hex(i) for i in colors_array]\n\n# add markers to the map\nmarkers_colors = []\nfor lat, lon, poi, cluster in zip(Newham_merged['Latitude'], Newham_merged['Longitude'], Newham_merged['Neighborhood'], Newham_merged['Cluster Labels']):\n    label = folium.Popup(str(poi) + ' Cluster ' + str(cluster), parse_html=True)\n    folium.CircleMarker(\n        [lat, lon],\n        radius=5,\n        popup=label,\n        color=rainbow[cluster-1],\n        fill=True,\n        fill_color=rainbow[cluster-1],\n        fill_opacity=0.7).add_to(map_clusters)\n       \nmap_clusters"
        }, 
        {
            "source": "# 5) Examine the Clusters", 
            "cell_type": "markdown", 
            "metadata": {}
        }, 
        {
            "execution_count": 72, 
            "cell_type": "code", 
            "metadata": {}, 
            "outputs": [
                {
                    "execution_count": 72, 
                    "metadata": {}, 
                    "data": {
                        "text/html": "<div>\n<style scoped>\n    .dataframe tbody tr th:only-of-type {\n        vertical-align: middle;\n    }\n\n    .dataframe tbody tr th {\n        vertical-align: top;\n    }\n\n    .dataframe thead th {\n        text-align: right;\n    }\n</style>\n<table border=\"1\" class=\"dataframe\">\n  <thead>\n    <tr style=\"text-align: right;\">\n      <th></th>\n      <th>Neighborhood</th>\n      <th>1st Most Common Venue</th>\n      <th>2nd Most Common Venue</th>\n      <th>3rd Most Common Venue</th>\n      <th>4th Most Common Venue</th>\n      <th>5th Most Common Venue</th>\n      <th>6th Most Common Venue</th>\n      <th>7th Most Common Venue</th>\n      <th>8th Most Common Venue</th>\n      <th>9th Most Common Venue</th>\n      <th>10th Most Common Venue</th>\n    </tr>\n  </thead>\n  <tbody>\n    <tr>\n      <th>9</th>\n      <td>Plaistow</td>\n      <td>Park</td>\n      <td>Caf\u00e9</td>\n      <td>Gym / Fitness Center</td>\n      <td>Grocery Store</td>\n      <td>Indian Restaurant</td>\n      <td>Bus Stop</td>\n      <td>Fish &amp; Chips Shop</td>\n      <td>Discount Store</td>\n      <td>Doctor's Office</td>\n      <td>Doner Restaurant</td>\n    </tr>\n    <tr>\n      <th>10</th>\n      <td>Silvertown</td>\n      <td>Park</td>\n      <td>Gym / Fitness Center</td>\n      <td>Go Kart Track</td>\n      <td>Theater</td>\n      <td>Caf\u00e9</td>\n      <td>Paintball Field</td>\n      <td>English Restaurant</td>\n      <td>Department Store</td>\n      <td>Dessert Shop</td>\n      <td>Discount Store</td>\n    </tr>\n  </tbody>\n</table>\n</div>", 
                        "text/plain": "   Neighborhood 1st Most Common Venue 2nd Most Common Venue  \\\n9      Plaistow                  Park                  Caf\u00e9   \n10   Silvertown                  Park  Gym / Fitness Center   \n\n   3rd Most Common Venue 4th Most Common Venue 5th Most Common Venue  \\\n9   Gym / Fitness Center         Grocery Store     Indian Restaurant   \n10         Go Kart Track               Theater                  Caf\u00e9   \n\n   6th Most Common Venue 7th Most Common Venue 8th Most Common Venue  \\\n9               Bus Stop     Fish & Chips Shop        Discount Store   \n10       Paintball Field    English Restaurant      Department Store   \n\n   9th Most Common Venue 10th Most Common Venue  \n9        Doctor's Office       Doner Restaurant  \n10          Dessert Shop         Discount Store  "
                    }, 
                    "output_type": "execute_result"
                }
            ], 
            "source": "Newham_merged.loc[Newham_merged['Cluster Labels'] == 0, Newham_merged.columns[[1] + list(range(5, Newham_merged.shape[1]))]]"
        }, 
        {
            "execution_count": 73, 
            "cell_type": "code", 
            "metadata": {}, 
            "outputs": [
                {
                    "execution_count": 73, 
                    "metadata": {}, 
                    "data": {
                        "text/html": "<div>\n<style scoped>\n    .dataframe tbody tr th:only-of-type {\n        vertical-align: middle;\n    }\n\n    .dataframe tbody tr th {\n        vertical-align: top;\n    }\n\n    .dataframe thead th {\n        text-align: right;\n    }\n</style>\n<table border=\"1\" class=\"dataframe\">\n  <thead>\n    <tr style=\"text-align: right;\">\n      <th></th>\n      <th>Neighborhood</th>\n      <th>1st Most Common Venue</th>\n      <th>2nd Most Common Venue</th>\n      <th>3rd Most Common Venue</th>\n      <th>4th Most Common Venue</th>\n      <th>5th Most Common Venue</th>\n      <th>6th Most Common Venue</th>\n      <th>7th Most Common Venue</th>\n      <th>8th Most Common Venue</th>\n      <th>9th Most Common Venue</th>\n      <th>10th Most Common Venue</th>\n    </tr>\n  </thead>\n  <tbody>\n    <tr>\n      <th>0</th>\n      <td>Beckton</td>\n      <td>Light Rail Station</td>\n      <td>Discount Store</td>\n      <td>Hotel</td>\n      <td>Grocery Store</td>\n      <td>Clothing Store</td>\n      <td>Furniture / Home Store</td>\n      <td>Pub</td>\n      <td>Shopping Plaza</td>\n      <td>Wine Bar</td>\n      <td>Doctor's Office</td>\n    </tr>\n    <tr>\n      <th>2</th>\n      <td>Custom House</td>\n      <td>Hotel</td>\n      <td>Chinese Restaurant</td>\n      <td>Pub</td>\n      <td>Wine Bar</td>\n      <td>Scenic Lookout</td>\n      <td>Hotel Bar</td>\n      <td>Italian Restaurant</td>\n      <td>Japanese Restaurant</td>\n      <td>English Restaurant</td>\n      <td>Light Rail Station</td>\n    </tr>\n    <tr>\n      <th>3</th>\n      <td>East Ham</td>\n      <td>Fast Food Restaurant</td>\n      <td>Clothing Store</td>\n      <td>Coffee Shop</td>\n      <td>Shopping Mall</td>\n      <td>Warehouse Store</td>\n      <td>Jewelry Store</td>\n      <td>Electronics Store</td>\n      <td>Doctor's Office</td>\n      <td>Grocery Store</td>\n      <td>Park</td>\n    </tr>\n    <tr>\n      <th>4</th>\n      <td>Forest Gate</td>\n      <td>Grocery Store</td>\n      <td>Market</td>\n      <td>Train Station</td>\n      <td>Bakery</td>\n      <td>Italian Restaurant</td>\n      <td>Pub</td>\n      <td>Moving Target</td>\n      <td>Caf\u00e9</td>\n      <td>Fast Food Restaurant</td>\n      <td>Wine Bar</td>\n    </tr>\n    <tr>\n      <th>6</th>\n      <td>Manor Park</td>\n      <td>Home Service</td>\n      <td>Turkish Restaurant</td>\n      <td>Gym / Fitness Center</td>\n      <td>Indian Restaurant</td>\n      <td>Restaurant</td>\n      <td>Fish &amp; Chips Shop</td>\n      <td>Dessert Shop</td>\n      <td>Discount Store</td>\n      <td>Doctor's Office</td>\n      <td>Doner Restaurant</td>\n    </tr>\n    <tr>\n      <th>7</th>\n      <td>Maryland</td>\n      <td>Pub</td>\n      <td>Bus Stop</td>\n      <td>Grocery Store</td>\n      <td>Hotel</td>\n      <td>Supermarket</td>\n      <td>Dance Studio</td>\n      <td>Liquor Store</td>\n      <td>Eastern European Restaurant</td>\n      <td>Caf\u00e9</td>\n      <td>Portuguese Restaurant</td>\n    </tr>\n    <tr>\n      <th>8</th>\n      <td>North Woolwich</td>\n      <td>Pier</td>\n      <td>History Museum</td>\n      <td>Outdoor Sculpture</td>\n      <td>Scenic Lookout</td>\n      <td>Gym / Fitness Center</td>\n      <td>Hotel</td>\n      <td>Italian Restaurant</td>\n      <td>Clothing Store</td>\n      <td>Pharmacy</td>\n      <td>Plaza</td>\n    </tr>\n    <tr>\n      <th>11</th>\n      <td>Stratford</td>\n      <td>Pub</td>\n      <td>Sandwich Place</td>\n      <td>Fast Food Restaurant</td>\n      <td>Bookstore</td>\n      <td>Clothing Store</td>\n      <td>Cosmetics Shop</td>\n      <td>Caf\u00e9</td>\n      <td>Bus Stop</td>\n      <td>Burger Joint</td>\n      <td>Pizza Place</td>\n    </tr>\n  </tbody>\n</table>\n</div>", 
                        "text/plain": "      Neighborhood 1st Most Common Venue 2nd Most Common Venue  \\\n0          Beckton    Light Rail Station        Discount Store   \n2     Custom House                 Hotel    Chinese Restaurant   \n3         East Ham  Fast Food Restaurant        Clothing Store   \n4      Forest Gate         Grocery Store                Market   \n6       Manor Park          Home Service    Turkish Restaurant   \n7         Maryland                   Pub              Bus Stop   \n8   North Woolwich                  Pier        History Museum   \n11       Stratford                   Pub        Sandwich Place   \n\n   3rd Most Common Venue 4th Most Common Venue 5th Most Common Venue  \\\n0                  Hotel         Grocery Store        Clothing Store   \n2                    Pub              Wine Bar        Scenic Lookout   \n3            Coffee Shop         Shopping Mall       Warehouse Store   \n4          Train Station                Bakery    Italian Restaurant   \n6   Gym / Fitness Center     Indian Restaurant            Restaurant   \n7          Grocery Store                 Hotel           Supermarket   \n8      Outdoor Sculpture        Scenic Lookout  Gym / Fitness Center   \n11  Fast Food Restaurant             Bookstore        Clothing Store   \n\n     6th Most Common Venue 7th Most Common Venue        8th Most Common Venue  \\\n0   Furniture / Home Store                   Pub               Shopping Plaza   \n2                Hotel Bar    Italian Restaurant          Japanese Restaurant   \n3            Jewelry Store     Electronics Store              Doctor's Office   \n4                      Pub         Moving Target                         Caf\u00e9   \n6        Fish & Chips Shop          Dessert Shop               Discount Store   \n7             Dance Studio          Liquor Store  Eastern European Restaurant   \n8                    Hotel    Italian Restaurant               Clothing Store   \n11          Cosmetics Shop                  Caf\u00e9                     Bus Stop   \n\n   9th Most Common Venue 10th Most Common Venue  \n0               Wine Bar        Doctor's Office  \n2     English Restaurant     Light Rail Station  \n3          Grocery Store                   Park  \n4   Fast Food Restaurant               Wine Bar  \n6        Doctor's Office       Doner Restaurant  \n7                   Caf\u00e9  Portuguese Restaurant  \n8               Pharmacy                  Plaza  \n11          Burger Joint            Pizza Place  "
                    }, 
                    "output_type": "execute_result"
                }
            ], 
            "source": "Newham_merged.loc[Newham_merged['Cluster Labels'] == 1, Newham_merged.columns[[1] + list(range(5, Newham_merged.shape[1]))]]"
        }, 
        {
            "execution_count": 74, 
            "cell_type": "code", 
            "metadata": {}, 
            "outputs": [
                {
                    "execution_count": 74, 
                    "metadata": {}, 
                    "data": {
                        "text/html": "<div>\n<style scoped>\n    .dataframe tbody tr th:only-of-type {\n        vertical-align: middle;\n    }\n\n    .dataframe tbody tr th {\n        vertical-align: top;\n    }\n\n    .dataframe thead th {\n        text-align: right;\n    }\n</style>\n<table border=\"1\" class=\"dataframe\">\n  <thead>\n    <tr style=\"text-align: right;\">\n      <th></th>\n      <th>Neighborhood</th>\n      <th>1st Most Common Venue</th>\n      <th>2nd Most Common Venue</th>\n      <th>3rd Most Common Venue</th>\n      <th>4th Most Common Venue</th>\n      <th>5th Most Common Venue</th>\n      <th>6th Most Common Venue</th>\n      <th>7th Most Common Venue</th>\n      <th>8th Most Common Venue</th>\n      <th>9th Most Common Venue</th>\n      <th>10th Most Common Venue</th>\n    </tr>\n  </thead>\n  <tbody>\n    <tr>\n      <th>1</th>\n      <td>Canning Town</td>\n      <td>Park</td>\n      <td>Convenience Store</td>\n      <td>Tennis Court</td>\n      <td>Gas Station</td>\n      <td>Fish &amp; Chips Shop</td>\n      <td>Dessert Shop</td>\n      <td>Discount Store</td>\n      <td>Doctor's Office</td>\n      <td>Doner Restaurant</td>\n      <td>Eastern European Restaurant</td>\n    </tr>\n  </tbody>\n</table>\n</div>", 
                        "text/plain": "   Neighborhood 1st Most Common Venue 2nd Most Common Venue  \\\n1  Canning Town                  Park     Convenience Store   \n\n  3rd Most Common Venue 4th Most Common Venue 5th Most Common Venue  \\\n1          Tennis Court           Gas Station     Fish & Chips Shop   \n\n  6th Most Common Venue 7th Most Common Venue 8th Most Common Venue  \\\n1          Dessert Shop        Discount Store       Doctor's Office   \n\n  9th Most Common Venue       10th Most Common Venue  \n1      Doner Restaurant  Eastern European Restaurant  "
                    }, 
                    "output_type": "execute_result"
                }
            ], 
            "source": "Newham_merged.loc[Newham_merged['Cluster Labels'] == 2, Newham_merged.columns[[1] + list(range(5, Newham_merged.shape[1]))]]"
        }, 
        {
            "execution_count": 75, 
            "cell_type": "code", 
            "metadata": {}, 
            "outputs": [
                {
                    "execution_count": 75, 
                    "metadata": {}, 
                    "data": {
                        "text/html": "<div>\n<style scoped>\n    .dataframe tbody tr th:only-of-type {\n        vertical-align: middle;\n    }\n\n    .dataframe tbody tr th {\n        vertical-align: top;\n    }\n\n    .dataframe thead th {\n        text-align: right;\n    }\n</style>\n<table border=\"1\" class=\"dataframe\">\n  <thead>\n    <tr style=\"text-align: right;\">\n      <th></th>\n      <th>Neighborhood</th>\n      <th>1st Most Common Venue</th>\n      <th>2nd Most Common Venue</th>\n      <th>3rd Most Common Venue</th>\n      <th>4th Most Common Venue</th>\n      <th>5th Most Common Venue</th>\n      <th>6th Most Common Venue</th>\n      <th>7th Most Common Venue</th>\n      <th>8th Most Common Venue</th>\n      <th>9th Most Common Venue</th>\n      <th>10th Most Common Venue</th>\n    </tr>\n  </thead>\n  <tbody>\n    <tr>\n      <th>5</th>\n      <td>Little Ilford</td>\n      <td>Ice Cream Shop</td>\n      <td>Indian Restaurant</td>\n      <td>Grocery Store</td>\n      <td>Fried Chicken Joint</td>\n      <td>Wine Bar</td>\n      <td>Food Court</td>\n      <td>Discount Store</td>\n      <td>Doctor's Office</td>\n      <td>Doner Restaurant</td>\n      <td>Eastern European Restaurant</td>\n    </tr>\n  </tbody>\n</table>\n</div>", 
                        "text/plain": "    Neighborhood 1st Most Common Venue 2nd Most Common Venue  \\\n5  Little Ilford        Ice Cream Shop     Indian Restaurant   \n\n  3rd Most Common Venue 4th Most Common Venue 5th Most Common Venue  \\\n5         Grocery Store   Fried Chicken Joint              Wine Bar   \n\n  6th Most Common Venue 7th Most Common Venue 8th Most Common Venue  \\\n5            Food Court        Discount Store       Doctor's Office   \n\n  9th Most Common Venue       10th Most Common Venue  \n5      Doner Restaurant  Eastern European Restaurant  "
                    }, 
                    "output_type": "execute_result"
                }
            ], 
            "source": "Newham_merged.loc[Newham_merged['Cluster Labels'] == 3, Newham_merged.columns[[1] + list(range(5, Newham_merged.shape[1]))]]"
        }, 
        {
            "execution_count": 76, 
            "cell_type": "code", 
            "metadata": {}, 
            "outputs": [
                {
                    "execution_count": 76, 
                    "metadata": {}, 
                    "data": {
                        "text/html": "<div>\n<style scoped>\n    .dataframe tbody tr th:only-of-type {\n        vertical-align: middle;\n    }\n\n    .dataframe tbody tr th {\n        vertical-align: top;\n    }\n\n    .dataframe thead th {\n        text-align: right;\n    }\n</style>\n<table border=\"1\" class=\"dataframe\">\n  <thead>\n    <tr style=\"text-align: right;\">\n      <th></th>\n      <th>Neighborhood</th>\n      <th>1st Most Common Venue</th>\n      <th>2nd Most Common Venue</th>\n      <th>3rd Most Common Venue</th>\n      <th>4th Most Common Venue</th>\n      <th>5th Most Common Venue</th>\n      <th>6th Most Common Venue</th>\n      <th>7th Most Common Venue</th>\n      <th>8th Most Common Venue</th>\n      <th>9th Most Common Venue</th>\n      <th>10th Most Common Venue</th>\n    </tr>\n  </thead>\n  <tbody>\n    <tr>\n      <th>12</th>\n      <td>Upton Park</td>\n      <td>Convenience Store</td>\n      <td>Bookstore</td>\n      <td>Boutique</td>\n      <td>Bus Stop</td>\n      <td>Wine Bar</td>\n      <td>Fried Chicken Joint</td>\n      <td>Doner Restaurant</td>\n      <td>Eastern European Restaurant</td>\n      <td>Electronics Store</td>\n      <td>English Restaurant</td>\n    </tr>\n    <tr>\n      <th>13</th>\n      <td>West Ham</td>\n      <td>Convenience Store</td>\n      <td>Bookstore</td>\n      <td>Boutique</td>\n      <td>Bus Stop</td>\n      <td>Wine Bar</td>\n      <td>Fried Chicken Joint</td>\n      <td>Doner Restaurant</td>\n      <td>Eastern European Restaurant</td>\n      <td>Electronics Store</td>\n      <td>English Restaurant</td>\n    </tr>\n  </tbody>\n</table>\n</div>", 
                        "text/plain": "   Neighborhood 1st Most Common Venue 2nd Most Common Venue  \\\n12   Upton Park     Convenience Store             Bookstore   \n13     West Ham     Convenience Store             Bookstore   \n\n   3rd Most Common Venue 4th Most Common Venue 5th Most Common Venue  \\\n12              Boutique              Bus Stop              Wine Bar   \n13              Boutique              Bus Stop              Wine Bar   \n\n   6th Most Common Venue 7th Most Common Venue        8th Most Common Venue  \\\n12   Fried Chicken Joint      Doner Restaurant  Eastern European Restaurant   \n13   Fried Chicken Joint      Doner Restaurant  Eastern European Restaurant   \n\n   9th Most Common Venue 10th Most Common Venue  \n12     Electronics Store     English Restaurant  \n13     Electronics Store     English Restaurant  "
                    }, 
                    "output_type": "execute_result"
                }
            ], 
            "source": "Newham_merged.loc[Newham_merged['Cluster Labels'] == 4, Newham_merged.columns[[1] + list(range(5, Newham_merged.shape[1]))]]"
        }, 
        {
            "source": "# Conclusion:\n### After examining the above 5 clusters, we can recommend our stakeholders that Beckton,Custom House, Maryland, Eastham and Manor Park are the best neighborhoods in Newham borough, to open their asian restuarant. This is because in these areas, the most common venue visited by the public is the restuarants and as these areas are highly populated with asians, opening an asian restuarant would definitley be a good idea.", 
            "cell_type": "markdown", 
            "metadata": {}
        }, 
        {
            "execution_count": null, 
            "cell_type": "code", 
            "metadata": {}, 
            "outputs": [], 
            "source": ""
        }, 
        {
            "execution_count": null, 
            "cell_type": "code", 
            "metadata": {}, 
            "outputs": [], 
            "source": ""
        }, 
        {
            "execution_count": null, 
            "cell_type": "code", 
            "metadata": {}, 
            "outputs": [], 
            "source": ""
        }
    ], 
    "metadata": {
        "kernelspec": {
            "display_name": "Python 3.5", 
            "name": "python3", 
            "language": "python"
        }, 
        "language_info": {
            "mimetype": "text/x-python", 
            "nbconvert_exporter": "python", 
            "version": "3.5.5", 
            "name": "python", 
            "file_extension": ".py", 
            "pygments_lexer": "ipython3", 
            "codemirror_mode": {
                "version": 3, 
                "name": "ipython"
            }
        }
    }, 
    "nbformat": 4
}